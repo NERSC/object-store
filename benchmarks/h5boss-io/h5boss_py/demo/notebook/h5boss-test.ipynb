{
 "cells": [
  {
   "cell_type": "code",
   "execution_count": 81,
   "metadata": {
    "collapsed": false
   },
   "outputs": [
    {
     "name": "stdout",
     "output_type": "stream",
     "text": [
      "3687-55269.hdf5  7456-56727.hdf5  7457-56746.hdf5\r\n"
     ]
    }
   ],
   "source": [
    "ls *.hdf5"
   ]
  },
  {
   "cell_type": "markdown",
   "metadata": {},
   "source": [
    "# Fiber Statistics"
   ]
  },
  {
   "cell_type": "code",
   "execution_count": 101,
   "metadata": {
    "collapsed": false
   },
   "outputs": [
    {
     "name": "stdout",
     "output_type": "stream",
     "text": [
      "length:1000\n",
      "min:148448.00\n",
      "max:148448.00\n",
      "median:148448.00\n",
      "mean:148448.00\n"
     ]
    }
   ],
   "source": [
    "import h5py\n",
    "import numpy as np\n",
    "testf=\"7456-56727.hdf5\"\n",
    "def fibersta(testf):\n",
    " fx1=h5py.File(testf,\"r\")\n",
    " p=fx1.keys()[0]\n",
    " m=fx1[str(p)].keys()[0]\n",
    " coad_size=[]\n",
    " pm=str(p)+'/'+str(m)\n",
    " fs=fx1[pm].keys()\n",
    " for i in range(0,len(fs)):\n",
    "    pmfi=pm+'/'+str(fs[i])+'/'+'coadd'\n",
    "    try:\n",
    "        #print pmfi\n",
    "        coad_size.append(fx1[pmfi].value.nbytes)\n",
    "    except:\n",
    "        pass\n",
    "    #print coad_size[i]\n",
    " return coad_size\n",
    "cs1=fibersta(testf)\n",
    "#print cs1\n",
    "print \"length:%d\"%len(cs1)\n",
    "print \"min:%.2f\"%np.amin(cs1)\n",
    "print \"max:%.2f\"%np.amax(cs1)\n",
    "print \"median:%.2f\"%np.median(cs1)\n",
    "print \"mean:%.2f\"%np.mean(cs1)"
   ]
  },
  {
   "cell_type": "markdown",
   "metadata": {
    "collapsed": false
   },
   "source": [
    "# Catalog Statistics"
   ]
  },
  {
   "cell_type": "code",
   "execution_count": 106,
   "metadata": {
    "collapsed": false
   },
   "outputs": [
    {
     "name": "stdout",
     "output_type": "stream",
     "text": [
      "length:6\n",
      "min:147000.00\n",
      "max:3012000.00\n",
      "median:1991500.00\n",
      "mean:1738500.00\n"
     ]
    }
   ],
   "source": [
    "meta=['plugmap', 'zbest', 'zline', 'photo/match', 'photo/matchflux', 'photo/matchpos']\n",
    "testf=\"3687-55269.hdf5\"\n",
    "def catasta(testf):\n",
    " fx1=h5py.File(testf,\"r\")\n",
    " p=fx1.keys()[0]\n",
    " m=fx1[str(p)].keys()[0]\n",
    " cata_size=[]\n",
    " pm=str(p)+'/'+str(m)\n",
    " fs=fx1[pm].keys()\n",
    " for i in range(0,len(meta)):\n",
    "    pmfi=pm+'/'+meta[i]\n",
    "    try:\n",
    "        #print pmfi\n",
    "        cata_size.append(fx1[pmfi].value.nbytes)\n",
    "    except:\n",
    "        pass\n",
    "    #print coad_size[i]\n",
    " return cata_size\n",
    "cs1=catasta(testf)\n",
    "#print cs1\n",
    "print \"length:%d\"%len(cs1)\n",
    "print \"min:%.2f\"%np.amin(cs1)\n",
    "print \"max:%.2f\"%np.amax(cs1)\n",
    "print \"median:%.2f\"%np.median(cs1)\n",
    "print \"mean:%.2f\"%np.mean(cs1)"
   ]
  },
  {
   "cell_type": "code",
   "execution_count": 13,
   "metadata": {
    "collapsed": false
   },
   "outputs": [
    {
     "name": "stdout",
     "output_type": "stream",
     "text": [
      "[u'3687']\n",
      "[u'55269']\n"
     ]
    }
   ],
   "source": [
    "print fx1.keys()\n",
    "print fx1['3687'].keys()"
   ]
  },
  {
   "cell_type": "code",
   "execution_count": 14,
   "metadata": {
    "collapsed": true
   },
   "outputs": [],
   "source": [
    "parent_id='3687/55269'"
   ]
  },
  {
   "cell_type": "code",
   "execution_count": 15,
   "metadata": {
    "collapsed": false
   },
   "outputs": [
    {
     "data": {
      "text/plain": [
       "[u'1',\n",
       " u'10',\n",
       " u'100',\n",
       " u'1000',\n",
       " u'101',\n",
       " u'102',\n",
       " u'103',\n",
       " u'104',\n",
       " u'105',\n",
       " u'106',\n",
       " u'107',\n",
       " u'108',\n",
       " u'109',\n",
       " u'11',\n",
       " u'110',\n",
       " u'111',\n",
       " u'112',\n",
       " u'113',\n",
       " u'114',\n",
       " u'115',\n",
       " u'116',\n",
       " u'117',\n",
       " u'118',\n",
       " u'119',\n",
       " u'12',\n",
       " u'120',\n",
       " u'121',\n",
       " u'122',\n",
       " u'123',\n",
       " u'124',\n",
       " u'125',\n",
       " u'126',\n",
       " u'127',\n",
       " u'128',\n",
       " u'129',\n",
       " u'13',\n",
       " u'130',\n",
       " u'131',\n",
       " u'132',\n",
       " u'133',\n",
       " u'134',\n",
       " u'135',\n",
       " u'136',\n",
       " u'137',\n",
       " u'138',\n",
       " u'139',\n",
       " u'14',\n",
       " u'140',\n",
       " u'141',\n",
       " u'142',\n",
       " u'143',\n",
       " u'144',\n",
       " u'145',\n",
       " u'146',\n",
       " u'147',\n",
       " u'148',\n",
       " u'149',\n",
       " u'15',\n",
       " u'150',\n",
       " u'151',\n",
       " u'152',\n",
       " u'153',\n",
       " u'154',\n",
       " u'155',\n",
       " u'156',\n",
       " u'157',\n",
       " u'158',\n",
       " u'159',\n",
       " u'16',\n",
       " u'160',\n",
       " u'161',\n",
       " u'162',\n",
       " u'163',\n",
       " u'164',\n",
       " u'165',\n",
       " u'166',\n",
       " u'167',\n",
       " u'168',\n",
       " u'169',\n",
       " u'17',\n",
       " u'170',\n",
       " u'171',\n",
       " u'172',\n",
       " u'173',\n",
       " u'174',\n",
       " u'175',\n",
       " u'176',\n",
       " u'177',\n",
       " u'178',\n",
       " u'179',\n",
       " u'18',\n",
       " u'180',\n",
       " u'181',\n",
       " u'182',\n",
       " u'183',\n",
       " u'184',\n",
       " u'185',\n",
       " u'186',\n",
       " u'187',\n",
       " u'188',\n",
       " u'189',\n",
       " u'19',\n",
       " u'190',\n",
       " u'191',\n",
       " u'192',\n",
       " u'193',\n",
       " u'194',\n",
       " u'195',\n",
       " u'196',\n",
       " u'197',\n",
       " u'198',\n",
       " u'199',\n",
       " u'2',\n",
       " u'20',\n",
       " u'200',\n",
       " u'201',\n",
       " u'202',\n",
       " u'203',\n",
       " u'204',\n",
       " u'205',\n",
       " u'206',\n",
       " u'207',\n",
       " u'208',\n",
       " u'209',\n",
       " u'21',\n",
       " u'210',\n",
       " u'211',\n",
       " u'212',\n",
       " u'213',\n",
       " u'214',\n",
       " u'215',\n",
       " u'216',\n",
       " u'217',\n",
       " u'218',\n",
       " u'219',\n",
       " u'22',\n",
       " u'220',\n",
       " u'221',\n",
       " u'222',\n",
       " u'223',\n",
       " u'224',\n",
       " u'225',\n",
       " u'226',\n",
       " u'227',\n",
       " u'228',\n",
       " u'229',\n",
       " u'23',\n",
       " u'230',\n",
       " u'231',\n",
       " u'232',\n",
       " u'233',\n",
       " u'234',\n",
       " u'235',\n",
       " u'236',\n",
       " u'237',\n",
       " u'238',\n",
       " u'239',\n",
       " u'24',\n",
       " u'240',\n",
       " u'241',\n",
       " u'242',\n",
       " u'243',\n",
       " u'244',\n",
       " u'245',\n",
       " u'246',\n",
       " u'247',\n",
       " u'248',\n",
       " u'249',\n",
       " u'25',\n",
       " u'250',\n",
       " u'251',\n",
       " u'252',\n",
       " u'253',\n",
       " u'254',\n",
       " u'255',\n",
       " u'256',\n",
       " u'257',\n",
       " u'258',\n",
       " u'259',\n",
       " u'26',\n",
       " u'260',\n",
       " u'261',\n",
       " u'262',\n",
       " u'263',\n",
       " u'264',\n",
       " u'265',\n",
       " u'266',\n",
       " u'267',\n",
       " u'268',\n",
       " u'269',\n",
       " u'27',\n",
       " u'270',\n",
       " u'271',\n",
       " u'272',\n",
       " u'273',\n",
       " u'274',\n",
       " u'275',\n",
       " u'276',\n",
       " u'277',\n",
       " u'278',\n",
       " u'279',\n",
       " u'28',\n",
       " u'280',\n",
       " u'281',\n",
       " u'282',\n",
       " u'283',\n",
       " u'284',\n",
       " u'285',\n",
       " u'286',\n",
       " u'287',\n",
       " u'288',\n",
       " u'289',\n",
       " u'29',\n",
       " u'290',\n",
       " u'291',\n",
       " u'292',\n",
       " u'293',\n",
       " u'294',\n",
       " u'295',\n",
       " u'296',\n",
       " u'297',\n",
       " u'298',\n",
       " u'299',\n",
       " u'3',\n",
       " u'30',\n",
       " u'300',\n",
       " u'301',\n",
       " u'302',\n",
       " u'303',\n",
       " u'304',\n",
       " u'305',\n",
       " u'306',\n",
       " u'307',\n",
       " u'308',\n",
       " u'309',\n",
       " u'31',\n",
       " u'310',\n",
       " u'311',\n",
       " u'312',\n",
       " u'313',\n",
       " u'314',\n",
       " u'315',\n",
       " u'316',\n",
       " u'317',\n",
       " u'318',\n",
       " u'319',\n",
       " u'32',\n",
       " u'320',\n",
       " u'321',\n",
       " u'322',\n",
       " u'323',\n",
       " u'324',\n",
       " u'325',\n",
       " u'326',\n",
       " u'327',\n",
       " u'328',\n",
       " u'329',\n",
       " u'33',\n",
       " u'330',\n",
       " u'331',\n",
       " u'332',\n",
       " u'333',\n",
       " u'334',\n",
       " u'335',\n",
       " u'336',\n",
       " u'337',\n",
       " u'338',\n",
       " u'339',\n",
       " u'34',\n",
       " u'340',\n",
       " u'341',\n",
       " u'342',\n",
       " u'343',\n",
       " u'344',\n",
       " u'345',\n",
       " u'346',\n",
       " u'347',\n",
       " u'348',\n",
       " u'349',\n",
       " u'35',\n",
       " u'350',\n",
       " u'351',\n",
       " u'352',\n",
       " u'353',\n",
       " u'354',\n",
       " u'355',\n",
       " u'356',\n",
       " u'357',\n",
       " u'358',\n",
       " u'359',\n",
       " u'36',\n",
       " u'360',\n",
       " u'361',\n",
       " u'362',\n",
       " u'363',\n",
       " u'364',\n",
       " u'365',\n",
       " u'366',\n",
       " u'367',\n",
       " u'368',\n",
       " u'369',\n",
       " u'37',\n",
       " u'370',\n",
       " u'371',\n",
       " u'372',\n",
       " u'373',\n",
       " u'374',\n",
       " u'375',\n",
       " u'376',\n",
       " u'377',\n",
       " u'378',\n",
       " u'379',\n",
       " u'38',\n",
       " u'380',\n",
       " u'381',\n",
       " u'382',\n",
       " u'383',\n",
       " u'384',\n",
       " u'385',\n",
       " u'386',\n",
       " u'387',\n",
       " u'388',\n",
       " u'389',\n",
       " u'39',\n",
       " u'390',\n",
       " u'391',\n",
       " u'392',\n",
       " u'393',\n",
       " u'394',\n",
       " u'395',\n",
       " u'396',\n",
       " u'397',\n",
       " u'398',\n",
       " u'399',\n",
       " u'4',\n",
       " u'40',\n",
       " u'400',\n",
       " u'401',\n",
       " u'402',\n",
       " u'403',\n",
       " u'404',\n",
       " u'405',\n",
       " u'406',\n",
       " u'407',\n",
       " u'408',\n",
       " u'409',\n",
       " u'41',\n",
       " u'410',\n",
       " u'411',\n",
       " u'412',\n",
       " u'413',\n",
       " u'414',\n",
       " u'415',\n",
       " u'416',\n",
       " u'417',\n",
       " u'418',\n",
       " u'419',\n",
       " u'42',\n",
       " u'420',\n",
       " u'421',\n",
       " u'422',\n",
       " u'423',\n",
       " u'424',\n",
       " u'425',\n",
       " u'426',\n",
       " u'427',\n",
       " u'428',\n",
       " u'429',\n",
       " u'43',\n",
       " u'430',\n",
       " u'431',\n",
       " u'432',\n",
       " u'433',\n",
       " u'434',\n",
       " u'435',\n",
       " u'436',\n",
       " u'437',\n",
       " u'438',\n",
       " u'439',\n",
       " u'44',\n",
       " u'440',\n",
       " u'441',\n",
       " u'442',\n",
       " u'443',\n",
       " u'444',\n",
       " u'445',\n",
       " u'446',\n",
       " u'447',\n",
       " u'448',\n",
       " u'449',\n",
       " u'45',\n",
       " u'450',\n",
       " u'451',\n",
       " u'452',\n",
       " u'453',\n",
       " u'454',\n",
       " u'455',\n",
       " u'456',\n",
       " u'457',\n",
       " u'458',\n",
       " u'459',\n",
       " u'46',\n",
       " u'460',\n",
       " u'461',\n",
       " u'462',\n",
       " u'463',\n",
       " u'464',\n",
       " u'465',\n",
       " u'466',\n",
       " u'467',\n",
       " u'468',\n",
       " u'469',\n",
       " u'47',\n",
       " u'470',\n",
       " u'471',\n",
       " u'472',\n",
       " u'473',\n",
       " u'474',\n",
       " u'475',\n",
       " u'476',\n",
       " u'477',\n",
       " u'478',\n",
       " u'479',\n",
       " u'48',\n",
       " u'480',\n",
       " u'481',\n",
       " u'482',\n",
       " u'483',\n",
       " u'484',\n",
       " u'485',\n",
       " u'486',\n",
       " u'487',\n",
       " u'488',\n",
       " u'489',\n",
       " u'49',\n",
       " u'490',\n",
       " u'491',\n",
       " u'492',\n",
       " u'493',\n",
       " u'494',\n",
       " u'495',\n",
       " u'496',\n",
       " u'497',\n",
       " u'498',\n",
       " u'499',\n",
       " u'5',\n",
       " u'50',\n",
       " u'500',\n",
       " u'501',\n",
       " u'502',\n",
       " u'503',\n",
       " u'504',\n",
       " u'505',\n",
       " u'506',\n",
       " u'507',\n",
       " u'508',\n",
       " u'509',\n",
       " u'51',\n",
       " u'510',\n",
       " u'511',\n",
       " u'512',\n",
       " u'513',\n",
       " u'514',\n",
       " u'515',\n",
       " u'516',\n",
       " u'517',\n",
       " u'518',\n",
       " u'519',\n",
       " u'52',\n",
       " u'520',\n",
       " u'521',\n",
       " u'522',\n",
       " u'523',\n",
       " u'524',\n",
       " u'525',\n",
       " u'526',\n",
       " u'527',\n",
       " u'528',\n",
       " u'529',\n",
       " u'53',\n",
       " u'530',\n",
       " u'531',\n",
       " u'532',\n",
       " u'533',\n",
       " u'534',\n",
       " u'535',\n",
       " u'536',\n",
       " u'537',\n",
       " u'538',\n",
       " u'539',\n",
       " u'54',\n",
       " u'540',\n",
       " u'541',\n",
       " u'542',\n",
       " u'543',\n",
       " u'544',\n",
       " u'545',\n",
       " u'546',\n",
       " u'547',\n",
       " u'548',\n",
       " u'549',\n",
       " u'55',\n",
       " u'550',\n",
       " u'551',\n",
       " u'552',\n",
       " u'553',\n",
       " u'554',\n",
       " u'555',\n",
       " u'556',\n",
       " u'557',\n",
       " u'558',\n",
       " u'559',\n",
       " u'56',\n",
       " u'560',\n",
       " u'561',\n",
       " u'562',\n",
       " u'563',\n",
       " u'564',\n",
       " u'565',\n",
       " u'566',\n",
       " u'567',\n",
       " u'568',\n",
       " u'569',\n",
       " u'57',\n",
       " u'570',\n",
       " u'571',\n",
       " u'572',\n",
       " u'573',\n",
       " u'574',\n",
       " u'575',\n",
       " u'576',\n",
       " u'577',\n",
       " u'578',\n",
       " u'579',\n",
       " u'58',\n",
       " u'580',\n",
       " u'581',\n",
       " u'582',\n",
       " u'583',\n",
       " u'584',\n",
       " u'585',\n",
       " u'586',\n",
       " u'587',\n",
       " u'588',\n",
       " u'589',\n",
       " u'59',\n",
       " u'590',\n",
       " u'591',\n",
       " u'592',\n",
       " u'593',\n",
       " u'594',\n",
       " u'595',\n",
       " u'596',\n",
       " u'597',\n",
       " u'598',\n",
       " u'599',\n",
       " u'6',\n",
       " u'60',\n",
       " u'600',\n",
       " u'601',\n",
       " u'602',\n",
       " u'603',\n",
       " u'604',\n",
       " u'605',\n",
       " u'606',\n",
       " u'607',\n",
       " u'608',\n",
       " u'609',\n",
       " u'61',\n",
       " u'610',\n",
       " u'611',\n",
       " u'612',\n",
       " u'613',\n",
       " u'614',\n",
       " u'615',\n",
       " u'616',\n",
       " u'617',\n",
       " u'618',\n",
       " u'619',\n",
       " u'62',\n",
       " u'620',\n",
       " u'621',\n",
       " u'622',\n",
       " u'623',\n",
       " u'624',\n",
       " u'625',\n",
       " u'626',\n",
       " u'627',\n",
       " u'628',\n",
       " u'629',\n",
       " u'63',\n",
       " u'630',\n",
       " u'631',\n",
       " u'632',\n",
       " u'633',\n",
       " u'634',\n",
       " u'635',\n",
       " u'636',\n",
       " u'637',\n",
       " u'638',\n",
       " u'639',\n",
       " u'64',\n",
       " u'640',\n",
       " u'641',\n",
       " u'642',\n",
       " u'643',\n",
       " u'644',\n",
       " u'645',\n",
       " u'646',\n",
       " u'647',\n",
       " u'648',\n",
       " u'649',\n",
       " u'65',\n",
       " u'650',\n",
       " u'651',\n",
       " u'652',\n",
       " u'653',\n",
       " u'654',\n",
       " u'655',\n",
       " u'656',\n",
       " u'657',\n",
       " u'658',\n",
       " u'659',\n",
       " u'66',\n",
       " u'660',\n",
       " u'661',\n",
       " u'662',\n",
       " u'663',\n",
       " u'664',\n",
       " u'665',\n",
       " u'666',\n",
       " u'667',\n",
       " u'668',\n",
       " u'669',\n",
       " u'67',\n",
       " u'670',\n",
       " u'671',\n",
       " u'672',\n",
       " u'673',\n",
       " u'674',\n",
       " u'675',\n",
       " u'676',\n",
       " u'677',\n",
       " u'678',\n",
       " u'679',\n",
       " u'68',\n",
       " u'680',\n",
       " u'681',\n",
       " u'682',\n",
       " u'683',\n",
       " u'684',\n",
       " u'685',\n",
       " u'686',\n",
       " u'687',\n",
       " u'688',\n",
       " u'689',\n",
       " u'69',\n",
       " u'690',\n",
       " u'691',\n",
       " u'692',\n",
       " u'693',\n",
       " u'694',\n",
       " u'695',\n",
       " u'696',\n",
       " u'697',\n",
       " u'698',\n",
       " u'699',\n",
       " u'7',\n",
       " u'70',\n",
       " u'700',\n",
       " u'701',\n",
       " u'702',\n",
       " u'703',\n",
       " u'704',\n",
       " u'705',\n",
       " u'706',\n",
       " u'707',\n",
       " u'708',\n",
       " u'709',\n",
       " u'71',\n",
       " u'710',\n",
       " u'711',\n",
       " u'712',\n",
       " u'713',\n",
       " u'714',\n",
       " u'715',\n",
       " u'716',\n",
       " u'717',\n",
       " u'718',\n",
       " u'719',\n",
       " u'72',\n",
       " u'720',\n",
       " u'721',\n",
       " u'722',\n",
       " u'723',\n",
       " u'724',\n",
       " u'725',\n",
       " u'726',\n",
       " u'727',\n",
       " u'728',\n",
       " u'729',\n",
       " u'73',\n",
       " u'730',\n",
       " u'731',\n",
       " u'732',\n",
       " u'733',\n",
       " u'734',\n",
       " u'735',\n",
       " u'736',\n",
       " u'737',\n",
       " u'738',\n",
       " u'739',\n",
       " u'74',\n",
       " u'740',\n",
       " u'741',\n",
       " u'742',\n",
       " u'743',\n",
       " u'744',\n",
       " u'745',\n",
       " u'746',\n",
       " u'747',\n",
       " u'748',\n",
       " u'749',\n",
       " u'75',\n",
       " u'750',\n",
       " u'751',\n",
       " u'752',\n",
       " u'753',\n",
       " u'754',\n",
       " u'755',\n",
       " u'756',\n",
       " u'757',\n",
       " u'758',\n",
       " u'759',\n",
       " u'76',\n",
       " u'760',\n",
       " u'761',\n",
       " u'762',\n",
       " u'763',\n",
       " u'764',\n",
       " u'765',\n",
       " u'766',\n",
       " u'767',\n",
       " u'768',\n",
       " u'769',\n",
       " u'77',\n",
       " u'770',\n",
       " u'771',\n",
       " u'772',\n",
       " u'773',\n",
       " u'774',\n",
       " u'775',\n",
       " u'776',\n",
       " u'777',\n",
       " u'778',\n",
       " u'779',\n",
       " u'78',\n",
       " u'780',\n",
       " u'781',\n",
       " u'782',\n",
       " u'783',\n",
       " u'784',\n",
       " u'785',\n",
       " u'786',\n",
       " u'787',\n",
       " u'788',\n",
       " u'789',\n",
       " u'79',\n",
       " u'790',\n",
       " u'791',\n",
       " u'792',\n",
       " u'793',\n",
       " u'794',\n",
       " u'795',\n",
       " u'796',\n",
       " u'797',\n",
       " u'798',\n",
       " u'799',\n",
       " u'8',\n",
       " u'80',\n",
       " u'800',\n",
       " u'801',\n",
       " u'802',\n",
       " u'803',\n",
       " u'804',\n",
       " u'805',\n",
       " u'806',\n",
       " u'807',\n",
       " u'808',\n",
       " u'809',\n",
       " u'81',\n",
       " u'810',\n",
       " u'811',\n",
       " u'812',\n",
       " u'813',\n",
       " u'814',\n",
       " u'815',\n",
       " u'816',\n",
       " u'817',\n",
       " u'818',\n",
       " u'819',\n",
       " u'82',\n",
       " u'820',\n",
       " u'821',\n",
       " u'822',\n",
       " u'823',\n",
       " u'824',\n",
       " u'825',\n",
       " u'826',\n",
       " u'827',\n",
       " u'828',\n",
       " u'829',\n",
       " u'83',\n",
       " u'830',\n",
       " u'831',\n",
       " u'832',\n",
       " u'833',\n",
       " u'834',\n",
       " u'835',\n",
       " u'836',\n",
       " u'837',\n",
       " u'838',\n",
       " u'839',\n",
       " u'84',\n",
       " u'840',\n",
       " u'841',\n",
       " u'842',\n",
       " u'843',\n",
       " u'844',\n",
       " u'845',\n",
       " u'846',\n",
       " u'847',\n",
       " u'848',\n",
       " u'849',\n",
       " u'85',\n",
       " u'850',\n",
       " u'851',\n",
       " u'852',\n",
       " u'853',\n",
       " u'854',\n",
       " u'855',\n",
       " u'856',\n",
       " u'857',\n",
       " u'858',\n",
       " u'859',\n",
       " u'86',\n",
       " u'860',\n",
       " u'861',\n",
       " u'862',\n",
       " u'863',\n",
       " u'864',\n",
       " u'865',\n",
       " u'866',\n",
       " u'867',\n",
       " u'868',\n",
       " u'869',\n",
       " u'87',\n",
       " u'870',\n",
       " u'871',\n",
       " u'872',\n",
       " u'873',\n",
       " u'874',\n",
       " u'875',\n",
       " u'876',\n",
       " u'877',\n",
       " u'878',\n",
       " u'879',\n",
       " u'88',\n",
       " u'880',\n",
       " u'881',\n",
       " u'882',\n",
       " u'883',\n",
       " u'884',\n",
       " u'885',\n",
       " u'886',\n",
       " u'887',\n",
       " u'888',\n",
       " u'889',\n",
       " u'89',\n",
       " u'890',\n",
       " u'891',\n",
       " u'892',\n",
       " u'893',\n",
       " u'894',\n",
       " u'895',\n",
       " u'896',\n",
       " u'897',\n",
       " u'898',\n",
       " u'899',\n",
       " u'9',\n",
       " u'90',\n",
       " u'900',\n",
       " u'901',\n",
       " u'902',\n",
       " u'903',\n",
       " u'904',\n",
       " u'905',\n",
       " u'906',\n",
       " u'907',\n",
       " u'908',\n",
       " u'909',\n",
       " u'91',\n",
       " u'910',\n",
       " u'911',\n",
       " u'912',\n",
       " u'913',\n",
       " u'914',\n",
       " u'915',\n",
       " u'916',\n",
       " u'917',\n",
       " u'918',\n",
       " u'919',\n",
       " u'92',\n",
       " u'920',\n",
       " u'921',\n",
       " u'922',\n",
       " u'923',\n",
       " u'924',\n",
       " u'925',\n",
       " u'926',\n",
       " u'927',\n",
       " u'928',\n",
       " u'929',\n",
       " u'93',\n",
       " u'930',\n",
       " u'931',\n",
       " u'932',\n",
       " u'933',\n",
       " u'934',\n",
       " u'935',\n",
       " u'936',\n",
       " u'937',\n",
       " u'938',\n",
       " u'939',\n",
       " u'94',\n",
       " u'940',\n",
       " u'941',\n",
       " u'942',\n",
       " u'943',\n",
       " u'944',\n",
       " u'945',\n",
       " u'946',\n",
       " u'947',\n",
       " u'948',\n",
       " u'949',\n",
       " u'95',\n",
       " u'950',\n",
       " u'951',\n",
       " u'952',\n",
       " u'953',\n",
       " u'954',\n",
       " u'955',\n",
       " u'956',\n",
       " u'957',\n",
       " u'958',\n",
       " u'959',\n",
       " u'96',\n",
       " u'960',\n",
       " u'961',\n",
       " u'962',\n",
       " u'963',\n",
       " u'964',\n",
       " u'965',\n",
       " u'966',\n",
       " u'967',\n",
       " u'968',\n",
       " u'969',\n",
       " u'97',\n",
       " u'970',\n",
       " u'971',\n",
       " u'972',\n",
       " u'973',\n",
       " u'974',\n",
       " u'975',\n",
       " u'976',\n",
       " u'977',\n",
       " u'978',\n",
       " u'979',\n",
       " u'98',\n",
       " u'980',\n",
       " u'981',\n",
       " u'982',\n",
       " u'983',\n",
       " u'984',\n",
       " u'985',\n",
       " u'986',\n",
       " u'987',\n",
       " u'988',\n",
       " u'989',\n",
       " u'99',\n",
       " u'990',\n",
       " u'991',\n",
       " u'992',\n",
       " u'993',\n",
       " u'994',\n",
       " u'995',\n",
       " u'996',\n",
       " u'997',\n",
       " u'998',\n",
       " u'999',\n",
       " ...]"
      ]
     },
     "execution_count": 15,
     "metadata": {},
     "output_type": "execute_result"
    }
   ],
   "source": [
    "arr=fx1[parent_id].keys()"
   ]
  },
  {
   "cell_type": "code",
   "execution_count": 16,
   "metadata": {
    "collapsed": false
   },
   "outputs": [],
   "source": [
    "id=parent_id+'/plugmap'\n",
    "sfiber=parent_id+'/129'\n",
    "coaid=sfiber+\"/coadd\"\n",
    "expid=sfiber+\"/exposures\""
   ]
  },
  {
   "cell_type": "code",
   "execution_count": 17,
   "metadata": {
    "collapsed": false
   },
   "outputs": [
    {
     "data": {
      "text/plain": [
       "[u'coadd', u'exposures']"
      ]
     },
     "execution_count": 17,
     "metadata": {},
     "output_type": "execute_result"
    }
   ],
   "source": [
    "d1=fx1[id]\n",
    "#print fx1[sfiber].keys()\n",
    "#print fx1[sfiber]\n",
    "#print fx1[coaid]\n",
    "#print fx1[expid].keys()\n",
    "d_coad=fx1[coaid][:]\n",
    "d_coad\n",
    "for i in fx1[expid].keys():\n",
    "    xb=expid+'/'+i+'/b'\n",
    "    xr=expid+'/'+i+'/r'\n",
    "    d_xb=fx1[xb][:]\n",
    "    #print 'd_xb:',d_xb\n",
    "    d_xr=fx1[xr][:]\n",
    "    #print 'd_xr:',d_xr\n",
    "fx1[sfiber].keys()"
   ]
  },
  {
   "cell_type": "code",
   "execution_count": 18,
   "metadata": {
    "collapsed": false
   },
   "outputs": [
    {
     "data": {
      "text/plain": [
       "<HDF5 dataset \"plugmap\": shape (1000,), type \"|V277\">"
      ]
     },
     "execution_count": 18,
     "metadata": {},
     "output_type": "execute_result"
    }
   ],
   "source": [
    "d1"
   ]
  },
  {
   "cell_type": "code",
   "execution_count": 19,
   "metadata": {
    "collapsed": false
   },
   "outputs": [],
   "source": [
    "meta=[]\n",
    "path=[]\n",
    "cur={}\n",
    "def find_id(name):\n",
    "    cur_node=name.encode('ascii','ignore')\n",
    "    node=pid+cur_node\n",
    "    node_t=str(type(fx1[node]))\n",
    "    if 'group' in node_t:\n",
    "        node_t='g'\n",
    "    else:\n",
    "        #node_t='d-'+str(fx1[node].shape)+'-'+str(fx1[node].dtype)\n",
    "        node_t=fx1[node].dtype\n",
    "    path.append(node)\n",
    "    meta.append(node_t)\n",
    "    cur[node]=node_t\n",
    "#d1.visit(find_id)\n",
    "#'g'==cur['3687/55269/1/exposures/111770/b']\n"
   ]
  },
  {
   "cell_type": "raw",
   "metadata": {},
   "source": [
    "ddtype1"
   ]
  },
  {
   "cell_type": "code",
   "execution_count": 20,
   "metadata": {
    "collapsed": false
   },
   "outputs": [],
   "source": [
    "#ffx=h5py.File('gtest7.h5','w')\n",
    "#dtype1=[('WAVE', '<f4'), ('FLUX', '<f4'), ('IVAR', '<f4'), ('MASK', '<i4'), ('WAVEDISP', '<f4'), ('SKY', '<f4'), ('X', '<f4'), ('CALIB', '<f4')]"
   ]
  },
  {
   "cell_type": "code",
   "execution_count": 21,
   "metadata": {
    "collapsed": false
   },
   "outputs": [],
   "source": [
    "#dfx1=ffx.create_dataset('3687/55269/1/exposures/111770/b', shape=(4112,),dtype=ddtype1)"
   ]
  },
  {
   "cell_type": "code",
   "execution_count": 22,
   "metadata": {
    "collapsed": false
   },
   "outputs": [],
   "source": [
    "#dfx=fx1['3687/55269/1/exposures/111770/b'].value\n",
    "#dfx"
   ]
  },
  {
   "cell_type": "code",
   "execution_count": 23,
   "metadata": {
    "collapsed": false
   },
   "outputs": [],
   "source": [
    "#dfx1[:,]=dfx"
   ]
  },
  {
   "cell_type": "code",
   "execution_count": 24,
   "metadata": {
    "collapsed": false
   },
   "outputs": [],
   "source": [
    "#dfx1.value"
   ]
  },
  {
   "cell_type": "code",
   "execution_count": 25,
   "metadata": {
    "collapsed": false
   },
   "outputs": [],
   "source": [
    "#ffx.close()"
   ]
  },
  {
   "cell_type": "code",
   "execution_count": 26,
   "metadata": {
    "collapsed": false
   },
   "outputs": [],
   "source": [
    "#fffx=h5py.File('gtest6.h5','r')\n",
    "#fffx['3687/55269/1/exposures/111770/b'].value"
   ]
  },
  {
   "cell_type": "code",
   "execution_count": 27,
   "metadata": {
    "collapsed": false
   },
   "outputs": [
    {
     "name": "stdout",
     "output_type": "stream",
     "text": [
      "1081659_100k.err  1130243_100k.out        \u001b[0m\u001b[01;34mpmf-list\u001b[0m/\r\n",
      "1081659_100k.out  1130374_100k.err        select_10-time\r\n",
      "1123873_100k.err  1130374_100k.out        selected_files_1.out\r\n",
      "1123873_100k.out  3687-55269.hdf5         \u001b[01;32msubmit-bb.sh\u001b[0m*\r\n",
      "1124036_100k.err  \u001b[01;32mboss2hdf5-parallel.py\u001b[0m*  \u001b[01;32msubmit_part.sh\u001b[0m*\r\n",
      "1124036_100k.out  dbin1.h5                \u001b[01;32msubmit-scaling.sh\u001b[0m*\r\n",
      "1124256_100k.err  dbin2.h5                \u001b[01;32msubmit.sh\u001b[0m*\r\n",
      "1124256_100k.out  dbin3.h5                \u001b[01;32msubmit_sub.sh\u001b[0m*\r\n",
      "1124802_100k.err  dbin.h5                 subset1.h5\r\n",
      "1124802_100k.out  gtest7.h5               test_pw.h5\r\n",
      "1124888_100k.err  h5boss-test.ipynb       test_pw.py\r\n",
      "1124888_100k.out  input-full              Untitled.ipynb\r\n",
      "1130243_100k.err  input-full2-bk\r\n",
      "\u001b[m"
     ]
    }
   ],
   "source": [
    "ls"
   ]
  },
  {
   "cell_type": "code",
   "execution_count": 28,
   "metadata": {
    "collapsed": false
   },
   "outputs": [],
   "source": [
    "#import os\n",
    "#os.path.dirname(os.path.realpath('gtest6.h5'))+'/'+str(3)+'_'+str(1)+'.h5_slave'\n"
   ]
  },
  {
   "cell_type": "code",
   "execution_count": 29,
   "metadata": {
    "collapsed": false
   },
   "outputs": [],
   "source": [
    "#print os.path.basename(\"/global/u1/j/jialin/h5boss-util/h5boss_py/demo/3_1.h5_slave\").split('.')[0]"
   ]
  },
  {
   "cell_type": "code",
   "execution_count": 30,
   "metadata": {
    "collapsed": false
   },
   "outputs": [
    {
     "name": "stdout",
     "output_type": "stream",
     "text": [
      "1081659_100k.err  1130243_100k.out        \u001b[0m\u001b[01;34mpmf-list\u001b[0m/\r\n",
      "1081659_100k.out  1130374_100k.err        select_10-time\r\n",
      "1123873_100k.err  1130374_100k.out        selected_files_1.out\r\n",
      "1123873_100k.out  3687-55269.hdf5         \u001b[01;32msubmit-bb.sh\u001b[0m*\r\n",
      "1124036_100k.err  \u001b[01;32mboss2hdf5-parallel.py\u001b[0m*  \u001b[01;32msubmit_part.sh\u001b[0m*\r\n",
      "1124036_100k.out  dbin1.h5                \u001b[01;32msubmit-scaling.sh\u001b[0m*\r\n",
      "1124256_100k.err  dbin2.h5                \u001b[01;32msubmit.sh\u001b[0m*\r\n",
      "1124256_100k.out  dbin3.h5                \u001b[01;32msubmit_sub.sh\u001b[0m*\r\n",
      "1124802_100k.err  dbin.h5                 subset1.h5\r\n",
      "1124802_100k.out  gtest7.h5               test_pw.h5\r\n",
      "1124888_100k.err  h5boss-test.ipynb       test_pw.py\r\n",
      "1124888_100k.out  input-full              Untitled.ipynb\r\n",
      "1130243_100k.err  input-full2-bk\r\n",
      "\u001b[m"
     ]
    }
   ],
   "source": [
    "ls"
   ]
  },
  {
   "cell_type": "code",
   "execution_count": 32,
   "metadata": {
    "collapsed": false
   },
   "outputs": [
    {
     "data": {
      "text/plain": [
       "<HDF5 file \"dbin4.h5\" (mode r+)>"
      ]
     },
     "execution_count": 32,
     "metadata": {},
     "output_type": "execute_result"
    }
   ],
   "source": [
    "fxdbin1=h5py.File('dbin4.h5','a')\n",
    "fxdbin1"
   ]
  },
  {
   "cell_type": "code",
   "execution_count": 33,
   "metadata": {
    "collapsed": false
   },
   "outputs": [],
   "source": [
    "for id in fx1['3687/55269'].keys():\n",
    "    cid='3687/55269/'+id\n",
    "    fxdbin1.create_group(cid)\n",
    "    fx1.copy(cid,fxdbin1[cid])"
   ]
  },
  {
   "cell_type": "code",
   "execution_count": null,
   "metadata": {
    "collapsed": true
   },
   "outputs": [],
   "source": [
    "ls"
   ]
  },
  {
   "cell_type": "markdown",
   "metadata": {
    "collapsed": true
   },
   "source": [
    "# Fit the I/O time"
   ]
  },
  {
   "cell_type": "code",
   "execution_count": 45,
   "metadata": {
    "collapsed": true
   },
   "outputs": [],
   "source": [
    "import numpy as np\n",
    "fiber_number=[10.0,100.0,1000.0,10000.0]\n",
    "fiber_copy_time=[6.26,81.97,877.53,7498.72]\n",
    "catalog_copy_time=[3.61,37.35,414.17,927.33]\n",
    "read_fiber_col_time=[2.67,29.86,291.27,799.41]\n",
    "catalog_rowcopy_time=[0.9,7.19,120.07,124.77]\n",
    "total_cost=[114.53,233.48,1421.72,8607.17]\n",
    "fiber_number=np.array(fiber_number,dtype=float)\n",
    "fiber_copy_time=np.array(fiber_copy_time,dtype=float)\n",
    "catalog_copy_time=np.array(catalog_copy_time,dtype=float)\n",
    "read_fiber_col_time=np.array(read_fiber_col_time,dtype=float)\n",
    "catalog_rowcopy_time=np.array(catalog_rowcopy_time,dtype=float)\n",
    "fiber_copy=np.polyfit(fiber_copy_time,fiber_number,1)\n",
    "catalog_copy=np.polyfit(catalog_copy_time,fiber_number,1)"
   ]
  },
  {
   "cell_type": "code",
   "execution_count": 46,
   "metadata": {
    "collapsed": false
   },
   "outputs": [
    {
     "name": "stdout",
     "output_type": "stream",
     "text": [
      "[  1.33934963 -56.72454817]\n",
      "[  10.54151859 -865.80694843]\n"
     ]
    }
   ],
   "source": [
    "print fiber_copy\n",
    "print catalog_copy"
   ]
  },
  {
   "cell_type": "code",
   "execution_count": 55,
   "metadata": {
    "collapsed": false
   },
   "outputs": [],
   "source": [
    "import matplotlib.pyplot as plt\n",
    "from scipy.optimize import curve_fit\n",
    "def func(x,a,b):\n",
    "    return a*x+b\n",
    "popt,pcov = curve_fit(func,fiber_number,fiber_copy_time)\n",
    "popt_cata,pcov_cata=curve_fit(func,fiber_number,catalog_copy_time)"
   ]
  },
  {
   "cell_type": "code",
   "execution_count": 77,
   "metadata": {
    "collapsed": false
   },
   "outputs": [
    {
     "data": {
      "text/plain": [
       "<matplotlib.text.Text at 0x7f4238d4e310>"
      ]
     },
     "execution_count": 77,
     "metadata": {},
     "output_type": "execute_result"
    },
    {
     "data": {
      "image/png": "[encoded data removed]",
      "text/plain": [
       "<matplotlib.figure.Figure at 0x7f4239bba4d0>"
      ]
     },
     "metadata": {},
     "output_type": "display_data"
    }
   ],
   "source": [
    "import sympy as sym\n",
    "%matplotlib inline\n",
    "plt.plot(fiber_number,fiber_copy_time,'-o',label='Original Data')\n",
    "plt.plot(fiber_number,func(fiber_number,*popt),label=\"Fitted Curve\")\n",
    "plt.legend(loc='upper left')\n",
    "xs = sym.Symbol('x')    \n",
    "#tex = sym.latex(func(fiber_number,*popt)).replace('$', '')\n",
    "#plt.title(r'$f(x)= %s$' %(tex),fontsize=16)\n",
    "plt.title(\"Fiber copy time vs number of fiber\")\n",
    "plt.xlabel(r\"Number of Fibers\")\n",
    "plt.ylabel(r\"Fiber Copy Time (seconds)\")"
   ]
  },
  {
   "cell_type": "code",
   "execution_count": 78,
   "metadata": {
    "collapsed": false
   },
   "outputs": [
    {
     "data": {
      "text/plain": [
       "<matplotlib.text.Text at 0x7f423948e610>"
      ]
     },
     "execution_count": 78,
     "metadata": {},
     "output_type": "execute_result"
    },
    {
     "data": {
      "image/png": "[encoded data removed]",
      "text/plain": [
       "<matplotlib.figure.Figure at 0x7f423ab4b750>"
      ]
     },
     "metadata": {},
     "output_type": "display_data"
    }
   ],
   "source": [
    "plt.plot(fiber_number,catalog_copy_time,'-o',label='Original Data')\n",
    "plt.plot(fiber_number,func(fiber_number,*popt_cata),label=\"Fitted Curve\")\n",
    "plt.legend(loc='upper left')\n",
    "plt.title(\"Catalog copy time vs number of fiber\")\n",
    "plt.xlabel(r\"Number of Fibers\")\n",
    "plt.ylabel(r\"Catalog Copy Time (seconds)\")"
   ]
  },
  {
   "cell_type": "code",
   "execution_count": 107,
   "metadata": {
    "collapsed": false
   },
   "outputs": [
    {
     "name": "stdout",
     "output_type": "stream",
     "text": [
      "all-ost1\r\n"
     ]
    }
   ],
   "source": [
    "ls all-ost1"
   ]
  },
  {
   "cell_type": "code",
   "execution_count": 123,
   "metadata": {
    "collapsed": true
   },
   "outputs": [],
   "source": [
    "text_file = open(\"all-ost1\", \"r\")\n",
    "lines = text_file.read().splitlines()"
   ]
  },
  {
   "cell_type": "code",
   "execution_count": 124,
   "metadata": {
    "collapsed": false
   },
   "outputs": [
    {
     "data": {
      "text/plain": [
       "19160"
      ]
     },
     "execution_count": 124,
     "metadata": {},
     "output_type": "execute_result"
    }
   ],
   "source": [
    "len(lines)"
   ]
  },
  {
   "cell_type": "code",
   "execution_count": 143,
   "metadata": {
    "collapsed": false
   },
   "outputs": [],
   "source": [
    "import numpy as np\n",
    "myarray = map(int, lines)\n",
    "myarray = np.asarray(myarray)\n",
    "#print lines\n",
    "xr=range(0,96)\n"
   ]
  },
  {
   "cell_type": "code",
   "execution_count": 148,
   "metadata": {
    "collapsed": false
   },
   "outputs": [
    {
     "data": {
      "text/plain": [
       "(array([205, 201, 200, 208, 210, 199, 207, 214, 210, 200, 205, 195, 209,\n",
       "        208, 207, 218, 203, 199, 217, 200, 207, 201, 198, 215, 206, 210,\n",
       "        203, 196, 209, 208, 209, 219, 203,   0, 210, 208, 221, 206, 203,\n",
       "        208, 204, 197, 208, 207, 215,   0, 207, 203, 205, 199, 193, 207,\n",
       "        209, 202, 193, 220, 206, 204, 195, 203, 218, 202, 202, 216, 208,\n",
       "          0, 205, 196, 221, 212, 209, 203, 207, 208, 192, 204, 204, 207,\n",
       "        197, 221, 213, 212, 196, 205, 202, 200, 208, 218, 209, 206, 197,\n",
       "        207, 200, 203, 420]),\n",
       " array([ 0,  1,  2,  3,  4,  5,  6,  7,  8,  9, 10, 11, 12, 13, 14, 15, 16,\n",
       "        17, 18, 19, 20, 21, 22, 23, 24, 25, 26, 27, 28, 29, 30, 31, 32, 33,\n",
       "        34, 35, 36, 37, 38, 39, 40, 41, 42, 43, 44, 45, 46, 47, 48, 49, 50,\n",
       "        51, 52, 53, 54, 55, 56, 57, 58, 59, 60, 61, 62, 63, 64, 65, 66, 67,\n",
       "        68, 69, 70, 71, 72, 73, 74, 75, 76, 77, 78, 79, 80, 81, 82, 83, 84,\n",
       "        85, 86, 87, 88, 89, 90, 91, 92, 93, 94, 95]))"
      ]
     },
     "execution_count": 148,
     "metadata": {},
     "output_type": "execute_result"
    }
   ],
   "source": [
    "np.histogram(myarray,bins=xr)"
   ]
  },
  {
   "cell_type": "code",
   "execution_count": 152,
   "metadata": {
    "collapsed": false
   },
   "outputs": [
    {
     "data": {
      "text/plain": [
       "array([ 0,  0,  0, ..., 95, 95, 95])"
      ]
     },
     "execution_count": 152,
     "metadata": {},
     "output_type": "execute_result"
    }
   ],
   "source": [
    "myarray"
   ]
  },
  {
   "cell_type": "code",
   "execution_count": 2,
   "metadata": {
    "collapsed": false
   },
   "outputs": [
    {
     "name": "stdout",
     "output_type": "stream",
     "text": [
      "/global/u1/j/jialin/h5boss-util/h5boss_py/demo/pmf-list\n"
     ]
    }
   ],
   "source": [
    "cd pmf-list/"
   ]
  },
  {
   "cell_type": "markdown",
   "metadata": {},
   "source": [
    "# sorting pmf"
   ]
  },
  {
   "cell_type": "code",
   "execution_count": 215,
   "metadata": {
    "collapsed": false
   },
   "outputs": [],
   "source": [
    "import pandas as pd\n",
    "import numpy as np\n",
    "filename='pmf500k'\n",
    "dc=pd.read_csv(filename,sep=' ',dtype=str,header=0)\n",
    "ds=dc.sort_values(by='plates' ,ascending=True)\n",
    "nan_rows = ds[ds.isnull().T.any().T]\n",
    "dc.drop(dc.index[nan_rows.index], inplace=True)\n",
    "ds=dc.sort_values(by='plates' ,ascending=True)\n",
    "ds.to_csv(filename+'-sorted.csv',index=False,sep=' ',header='plates mjds fibers')\n",
    "ds=pd.read_csv(filename+'-sorted.csv',sep=' ',dtype=int,header=0)\n",
    "ps=pd.Series(ds['plates'])\n",
    "vc=ps.value_counts(sort=True)"
   ]
  },
  {
   "cell_type": "code",
   "execution_count": 216,
   "metadata": {
    "collapsed": false
   },
   "outputs": [
    {
     "name": "stdout",
     "output_type": "stream",
     "text": [
      "3662        252\n",
      "6682        248\n",
      "6873        248\n",
      "6265        246\n",
      "4804        244\n",
      "3787        244\n",
      "4180        242\n",
      "5949        242\n",
      "3784        242\n",
      "5135        242\n",
      "4081        241\n",
      "4773        240\n",
      "4654        239\n",
      "7454        239\n",
      "7385        239\n",
      "5002        239\n",
      "4778        238\n",
      "3773        238\n",
      "7383        237\n",
      "6783        237\n",
      "4693        237\n",
      "4235        237\n",
      "5857        237\n",
      "6787        237\n",
      "4238        237\n",
      "6831        237\n",
      "4576        236\n",
      "6474        236\n",
      "5441        236\n",
      "6258        236\n",
      "           ... \n",
      "36936187      1\n",
      "5834          1\n",
      "57299         1\n",
      "44552         1\n",
      "45136         1\n",
      "63639         1\n",
      "136           1\n",
      "33805         1\n",
      "42226583      1\n",
      "969           1\n",
      "404482        1\n",
      "4167          1\n",
      "36574543      1\n",
      "396038        1\n",
      "71236508      1\n",
      "594404        1\n",
      "397           1\n",
      "44953         1\n",
      "75490         1\n",
      "76002         1\n",
      "543           1\n",
      "68            1\n",
      "6447368       1\n",
      "4743699       1\n",
      "139           1\n",
      "711           1\n",
      "3767016       1\n",
      "69            1\n",
      "679509        1\n",
      "179           1\n",
      "Name: plates, dtype: int64\n"
     ]
    }
   ],
   "source": [
    "print vc\n",
    "ds=ds[ds.mjds<60000]\n",
    "ds=ds[ds.mjds>1000]\n",
    "ds=ds[ds.plates<8000]\n",
    "ds=ds[ds.plates>1000]\n",
    "ds=ds[ds.fibers<1001]\n",
    "ds=ds[ds.fibers>0]\n",
    "\n",
    "#dds=dds[dds.mjds>20000 ]\n",
    "#dds=dds[dds.plates>100 ]\n",
    "#dds=dds[dds.plates>9000 ]\n",
    "#print len(dc)\n",
    "#print len(ddc)\n",
    "ds.to_csv(filename+'-sorted.csv',index=False,sep=' ',header='plates mjds fibers',na_rep='NA')\n",
    "#ddss=dds[dds.plates<str(100)]\n",
    "df=ds.reindex(np.random.permutation(ds.index))\n",
    "df.to_csv(filename+'-shuffle.csv',index=False,sep=' ',header='plates mjds fibers',na_rep='NA')\n"
   ]
  },
  {
   "cell_type": "code",
   "execution_count": 191,
   "metadata": {
    "collapsed": false
   },
   "outputs": [
    {
     "data": {
      "text/plain": [
       "9972"
      ]
     },
     "execution_count": 191,
     "metadata": {},
     "output_type": "execute_result"
    }
   ],
   "source": [
    "len(ds)"
   ]
  },
  {
   "cell_type": "code",
   "execution_count": 248,
   "metadata": {
    "collapsed": false
   },
   "outputs": [],
   "source": [
    "global_dict={}\n",
    "global_dict['3665/55247/7/exposures/108815/b']=('int',2,'1.h5')\n",
    "global_dict['3665/55247/7/coadd']=('int',2,'1.h5')\n",
    "global_dict['3665/55247/7/exposures']=('int',2,'1.h5')\n",
    "global_dict['3665/55247/65']=('int',2,'1.h5')\n",
    "global_dict['3665/55247/704/coadd']=('int',2,'1.h5')\n",
    "global_dict['3665/55243/704/coadd']=('int',2,'1.h5')"
   ]
  },
  {
   "cell_type": "code",
   "execution_count": 249,
   "metadata": {
    "collapsed": false
   },
   "outputs": [
    {
     "data": {
      "text/plain": [
       "{'3665/55243/704/coadd': ('int', 2, '1.h5'),\n",
       " '3665/55247/65': ('int', 2, '1.h5'),\n",
       " '3665/55247/7/coadd': ('int', 2, '1.h5'),\n",
       " '3665/55247/7/exposures': ('int', 2, '1.h5'),\n",
       " '3665/55247/7/exposures/108815/b': ('int', 2, '1.h5'),\n",
       " '3665/55247/704/coadd': ('int', 2, '1.h5')}"
      ]
     },
     "execution_count": 249,
     "metadata": {},
     "output_type": "execute_result"
    }
   ],
   "source": [
    "global_dict"
   ]
  },
  {
   "cell_type": "code",
   "execution_count": 250,
   "metadata": {
    "collapsed": false
   },
   "outputs": [],
   "source": [
    "def locate_fiber_in_catalog(global_dict):\n",
    "    revised_dict={}# key: pm, value: (fiberid, global_offset, infile)\n",
    "    for key,value in global_dict.items():\n",
    "        if key.split('/')[-1]=='coadd':\n",
    "            pm=key.split('/')[0]+'/'+key.split('/')[1]\n",
    "            if pm in revised_dict.keys():\n",
    "                #latest=revised_dict[pm][-1][2]\n",
    "                latest=latest+1\n",
    "                new_value=(key.split('/')[2],value[2],latest)\n",
    "                revised_dict[pm].append(new_value)\n",
    "            else:\n",
    "                latest=0\n",
    "                new_value=(key.split('/')[2],value[2],latest)\n",
    "                revised_dict.setdefault(pm, [])\n",
    "                revised_dict[pm].append(new_value)\n",
    "    return revised_dict"
   ]
  },
  {
   "cell_type": "code",
   "execution_count": 269,
   "metadata": {
    "collapsed": false
   },
   "outputs": [
    {
     "name": "stdout",
     "output_type": "stream",
     "text": [
      "{'3665/55247': [('704', '1.h5', 0), ('7', '1.h5', 1)], '3665/55243': [('704', '1.h5', 0)]}\n"
     ]
    }
   ],
   "source": [
    "revised_dict=locate_fiber_in_catalog(global_dict)\n",
    "print revised_dict"
   ]
  },
  {
   "cell_type": "code",
   "execution_count": 271,
   "metadata": {
    "collapsed": false
   },
   "outputs": [],
   "source": [
    "#revised_dict=revised_dict.items()\n",
    "#for i in range(0,len(revised_dict)):\n",
    "#    pm=revised_dict[i][1]\n",
    "#    print len(pm)"
   ]
  },
  {
   "cell_type": "code",
   "execution_count": 272,
   "metadata": {
    "collapsed": false
   },
   "outputs": [
    {
     "data": {
      "text/plain": [
       "[('704', '1.h5', 0), ('7', '1.h5', 1)]"
      ]
     },
     "execution_count": 272,
     "metadata": {},
     "output_type": "execute_result"
    }
   ],
   "source": [
    "revised_dict['3665/55247']"
   ]
  },
  {
   "cell_type": "code",
   "execution_count": 121,
   "metadata": {
    "collapsed": false
   },
   "outputs": [],
   "source": [
    "ss='|S6'\n",
    "ss[ss.index('S')+1]\n",
    "def print_sizeof(dtt):\n",
    " for i in range(0,len(dtt)):\n",
    "    k=str(dtt[i])\n",
    "    if k=='int8':\n",
    "        print \"sizeof(H5T_NATIVE_INT8),\"\n",
    "    elif k=='int16':\n",
    "        print \"sizeof(H5T_NATIVE_INT16),\"    \n",
    "    elif k=='int32':\n",
    "        print \"sizeof(H5T_NATIVE_INT32),\"\n",
    "    elif k=='int64':\n",
    "        print \"sizeof(H5T_NATIVE_INT64),\"\n",
    "    elif k=='uint8':\n",
    "        print \"sizeof(H5T_NATIVE_UINT8),\"\n",
    "    elif k=='uint16':\n",
    "        print \"sizeof(H5T_NATIVE_UINT16),\"    \n",
    "    elif k=='uint32':\n",
    "        print \"sizeof(H5T_NATIVE_UINT32),\"\n",
    "    elif k=='uint64':\n",
    "        print \"sizeof(H5T_NATIVE_UINT64),\"        \n",
    "    elif k=='float32':\n",
    "        print \"sizeof(H5T_NATIVE_FLOAT),\"\n",
    "    elif k=='float64':\n",
    "        print \"sizeof(H5T_NATIVE_DOUBLE),\"\n",
    "    elif '|S' in k:\n",
    "        print \"sizeof(H5T_C_S1)*%s,\"%(k[k.index('S')+1:])\n",
    "    elif '<i4' in k:\n",
    "        kk=k[k.index('i')+6:k.index('))')]\n",
    "        kk1=kk.replace(' ','').split(',')[0]\n",
    "        kk2=kk.replace(' ','').split(',')[1]\n",
    "        if kk2.isdigit():\n",
    "            kk1=int(kk1)*int(kk2)\n",
    "        else:\n",
    "            kk1=int(kk1)\n",
    "        print \"sizeof(H5T_NATIVE_INT32)*%d,\"%kk1\n",
    "    elif 'f4' in k:\n",
    "        kk=k[k.index('f')+6:k.index('))')]\n",
    "        kk1=kk.replace(' ','').split(',')[0]\n",
    "        kk2=kk.replace(' ','').split(',')[1]\n",
    "        if kk2.isdigit():\n",
    "            kk1=int(kk1)*int(kk2)\n",
    "        else:\n",
    "            kk1=int(kk1)\n",
    "        print \"sizeof(H5T_NATIVE_FLOAT)*%s,\"%kk1\n",
    "    elif 'f8' in k:\n",
    "        kk=k[k.index('f')+6:k.index('))')]\n",
    "        kk1=kk.replace(' ','').split(',')[0]\n",
    "        kk2=kk.replace(' ','').split(',')[1]\n",
    "        if kk2.isdigit():\n",
    "            kk1=int(kk1)*int(kk2)\n",
    "        else:\n",
    "            kk1=int(kk1)\n",
    "        print \"sizeof(H5T_NATIVE_DOUBLE)*%s,\"%kk1    \n",
    "def print_ini(dtt):\n",
    "  total=0\n",
    "  print(len(dtt))\n",
    "  for i in range(0,len(dtt)):\n",
    "    k=str(dtt[i])\n",
    "    if k=='int8':\n",
    "        print \"H5T_NATIVE_INT8 %s,\"%dtt.names[i]\n",
    "    elif k=='uint8':\n",
    "        print \"H5T_NATIVE_UINT8 %s,\"%dtt.names[i]     \n",
    "    elif k=='int16':\n",
    "        print \"H5T_NATIVE_INT16 %s,\"%dtt.names[i]\n",
    "    elif k=='uint16':\n",
    "        print \"H5T_NATIVE_UINT16 %s,\"%dtt.names[i]  \n",
    "    elif k=='int32':\n",
    "        print \"H5T_NATIVE_INT32 %s,\"%dtt.names[i]\n",
    "    elif k=='uint32':\n",
    "        print \"H5T_NATIVE_UINT32 %s,\"%dtt.names[i]        \n",
    "    elif k=='int64':\n",
    "        print \"H5T_NATIVE_INT64 %s,\"%dtt.names[i]\n",
    "    elif k=='uint64':\n",
    "        print \"H5T_NATIVE_UINT64 %s,\"%dtt.names[i]        \n",
    "    elif k=='float32':\n",
    "        print \"H5T_NATIVE_FLOAT %s,\"%dtt.names[i]\n",
    "    elif k=='float64':\n",
    "        print \"H5T_NATIVE_DOUBLE %s,\"%dtt.names[i]\n",
    "    elif '|S' in k:\n",
    "        print \"H5T_C_S1 %s[%s],\"%(dtt.names[i],k[k.index('S')+1:])\n",
    "    elif '<i4' in k:\n",
    "        #print (k)\n",
    "        kk=k[k.index('i')+6:k.index('))')]\n",
    "        kk1=kk.replace(' ','').split(',')[0]\n",
    "        kk2=kk.replace(' ','').split(',')[1]\n",
    "        if kk2.isdigit():\n",
    "            kk1=int(kk1)*int(kk2)\n",
    "        else:\n",
    "            kk1=int(kk1)\n",
    "        print \"H5T_NATIVE_INT32 %s[%d],\"%(dtt.names[i],kk1)\n",
    "    elif 'f4' in k:\n",
    "        #print (k)\n",
    "        kk=k[k.index('f')+6:k.index('))')]\n",
    "        kk1=kk.replace(' ','').split(',')[0]\n",
    "        kk2=kk.replace(' ','').split(',')[1]\n",
    "        if kk2.isdigit():\n",
    "            kk1=int(kk1)*int(kk2)\n",
    "        else:\n",
    "            kk1=int(kk1)        \n",
    "        print \"H5T_NATIVE_FLOAT %s[%d],\"%(dtt.names[i],kk1)\n",
    "    elif 'f8' in k:\n",
    "        #print (k)\n",
    "        kk=k[k.index('f')+6:k.index('))')]\n",
    "        kk1=kk.replace(' ','').split(',')[0]\n",
    "        kk2=kk.replace(' ','').split(',')[1]\n",
    "        if kk2.isdigit():\n",
    "            kk1=int(kk1)*int(kk2)\n",
    "        else:\n",
    "            kk1=int(kk1)        \n",
    "        print \"H5T_NATIVE_DOUBLE %s[%d],\"%(dtt.names[i],kk1)\n",
    "    else:\n",
    "        print (\"numlllllllllllll:::%s\"%dtt.names[i],dtt[i])\n",
    "\n",
    "def print_offset(dtt,cataname):\n",
    "  total=0\n",
    "  print(len(dtt))\n",
    "  for i in range(0,len(dtt)):\n",
    "    k=str(dtt[i])\n",
    "    print \"HOFFSET ( %s,%s ),\"%(cataname.upper(),dtt.names[i])"
   ]
  },
  {
   "cell_type": "markdown",
   "metadata": {
    "collapsed": true
   },
   "source": [
    "# Dtype Matching to HDF5 Native Type"
   ]
  },
  {
   "cell_type": "code",
   "execution_count": 131,
   "metadata": {
    "collapsed": false
   },
   "outputs": [
    {
     "name": "stdout",
     "output_type": "stream",
     "text": [
      "initialize:\n",
      "\n",
      "19\n",
      "H5T_NATIVE_INT32 PLATE,\n",
      "H5T_NATIVE_INT32 MJD,\n",
      "H5T_NATIVE_INT32 FIBERID,\n",
      "H5T_C_S1 LINENAME[13],\n",
      "H5T_NATIVE_DOUBLE LINEWAVE,\n",
      "H5T_NATIVE_FLOAT LINEZ,\n",
      "H5T_NATIVE_FLOAT LINEZ_ERR,\n",
      "H5T_NATIVE_FLOAT LINESIGMA,\n",
      "H5T_NATIVE_FLOAT LINESIGMA_ERR,\n",
      "H5T_NATIVE_FLOAT LINEAREA,\n",
      "H5T_NATIVE_FLOAT LINEAREA_ERR,\n",
      "H5T_NATIVE_FLOAT LINEEW,\n",
      "H5T_NATIVE_FLOAT LINEEW_ERR,\n",
      "H5T_NATIVE_FLOAT LINECONTLEVEL,\n",
      "H5T_NATIVE_FLOAT LINECONTLEVEL_ERR,\n",
      "H5T_NATIVE_INT32 LINENPIXLEFT,\n",
      "H5T_NATIVE_INT32 LINENPIXRIGHT,\n",
      "H5T_NATIVE_FLOAT LINEDOF,\n",
      "H5T_NATIVE_FLOAT LINECHI2,\n",
      "sizeof:\n",
      "\n",
      "sizeof(H5T_NATIVE_INT32),\n",
      "sizeof(H5T_NATIVE_INT32),\n",
      "sizeof(H5T_NATIVE_INT32),\n",
      "sizeof(H5T_C_S1)*13,\n",
      "sizeof(H5T_NATIVE_DOUBLE),\n",
      "sizeof(H5T_NATIVE_FLOAT),\n",
      "sizeof(H5T_NATIVE_FLOAT),\n",
      "sizeof(H5T_NATIVE_FLOAT),\n",
      "sizeof(H5T_NATIVE_FLOAT),\n",
      "sizeof(H5T_NATIVE_FLOAT),\n",
      "sizeof(H5T_NATIVE_FLOAT),\n",
      "sizeof(H5T_NATIVE_FLOAT),\n",
      "sizeof(H5T_NATIVE_FLOAT),\n",
      "sizeof(H5T_NATIVE_FLOAT),\n",
      "sizeof(H5T_NATIVE_FLOAT),\n",
      "sizeof(H5T_NATIVE_INT32),\n",
      "sizeof(H5T_NATIVE_INT32),\n",
      "sizeof(H5T_NATIVE_FLOAT),\n",
      "sizeof(H5T_NATIVE_FLOAT),\n",
      "offset:\n",
      "\n",
      "19\n",
      "HOFFSET ( ZLINE,PLATE ),\n",
      "HOFFSET ( ZLINE,MJD ),\n",
      "HOFFSET ( ZLINE,FIBERID ),\n",
      "HOFFSET ( ZLINE,LINENAME ),\n",
      "HOFFSET ( ZLINE,LINEWAVE ),\n",
      "HOFFSET ( ZLINE,LINEZ ),\n",
      "HOFFSET ( ZLINE,LINEZ_ERR ),\n",
      "HOFFSET ( ZLINE,LINESIGMA ),\n",
      "HOFFSET ( ZLINE,LINESIGMA_ERR ),\n",
      "HOFFSET ( ZLINE,LINEAREA ),\n",
      "HOFFSET ( ZLINE,LINEAREA_ERR ),\n",
      "HOFFSET ( ZLINE,LINEEW ),\n",
      "HOFFSET ( ZLINE,LINEEW_ERR ),\n",
      "HOFFSET ( ZLINE,LINECONTLEVEL ),\n",
      "HOFFSET ( ZLINE,LINECONTLEVEL_ERR ),\n",
      "HOFFSET ( ZLINE,LINENPIXLEFT ),\n",
      "HOFFSET ( ZLINE,LINENPIXRIGHT ),\n",
      "HOFFSET ( ZLINE,LINEDOF ),\n",
      "HOFFSET ( ZLINE,LINECHI2 ),\n"
     ]
    }
   ],
   "source": [
    "import h5py\n",
    "fx=h5py.File('3687-55269.hdf5','r');\n",
    "catalog='zline'\n",
    "dtt=fx['3687/55269/'+catalog].dtype\n",
    "print \"initialize:\\n\"\n",
    "print_ini(dtt)\n",
    "print \"sizeof:\\n\"\n",
    "print_sizeof(dtt)\n",
    "print \"offset:\\n\"\n",
    "print_offset(dtt,catalog)\n",
    "#print \"compare:\\n\"\n",
    "#for i in range(0,len(dtt)):\n",
    "#    print dtt[i]\n",
    "\n",
    "k=\"('<f4', (5, 15))\"\n",
    "k=k[k.index('f')+6:k.index('))')]\n",
    "#print k\n",
    "#kk1=k.replace(' ','').split(',')[0]\n",
    "#kk2=k.replace(' ','').split(',')[1]\n",
    "#print kk1\n",
    "#print kk2\n",
    "#print kk1.isdigit()\n",
    "#print kk2.isdigit()"
   ]
  },
  {
   "cell_type": "code",
   "execution_count": 1,
   "metadata": {
    "collapsed": false
   },
   "outputs": [
    {
     "name": "stdout",
     "output_type": "stream",
     "text": [
      "\u001b[0m\u001b[01;32m1k1m-cori.sh\u001b[0m*     2948767_100k.out               2970938_200k.err\r\n",
      "\u001b[01;32m1k1m-project.sh\u001b[0m*  2948811_100k.err               2970938_200k.out\r\n",
      "\u001b[01;32m1k1m.sh\u001b[0m*          2948811_100k.out               2970939_500k.err\r\n",
      "2924648_10k.err   2948863_100k.err               2970939_500k.out\r\n",
      "2924691_10k.err   2948863_100k.out               2979562_10k.err\r\n",
      "2924738_10k.err   2948917_100k.err               2979562_10k.out\r\n",
      "2924738_10k.out   2948917_100k.out               2979562_nodes10k_catalog.txt\r\n",
      "2924786_100k.err  2967851_100k.err               2979562_nodes10k_fiber.txt\r\n",
      "2938674_100k.err  2967851_100k.out               2979888_10k.err\r\n",
      "2938769_100k.err  2967884_100k.err               2979888_10k.out\r\n",
      "2938901_100k.err  2967884_100k.out               2979891_10k.err\r\n",
      "2938901_100k.out  2967954_10k.err                2979891_10k.out\r\n",
      "2938978_100k.err  2967954_10k.out                2979891_nodes10k_catalog.txt\r\n",
      "2938978_100k.out  2968103_10k.err                2979891_nodes10k_fiber.txt\r\n",
      "2947432_100k.err  2968103_10k.out                3687-55269.hdf5\r\n",
      "2947432_100k.out  2968188_10k.err                7456-56727.hdf5\r\n",
      "2947516_100k.err  2968188_10k.out                7457-56746.hdf5\r\n",
      "2947516_100k.out  2968303_10k.err                751.h5\r\n",
      "2947539_100k.err  2968303_10k.out                all-ost1\r\n",
      "2947539_100k.out  2968360_10k.err                bbtest1\r\n",
      "2947586_100k.err  2968360_10k.out                bbtest2\r\n",
      "2947586_100k.out  2968362_10k.err                bbtest3\r\n",
      "2948220_100k.err  2968362_10k.out                bbtest4\r\n",
      "2948220_100k.out  2968370_10k.err                \u001b[01;32mboss2hdf5-parallel.py\u001b[0m*\r\n",
      "2948280_100k.err  2968370_10k.out                \u001b[01;32mdrop_cache.py\u001b[0m*\r\n",
      "2948280_100k.out  2968373_10k.err                \u001b[01;32mdrop_file_from_page_cache\u001b[0m*\r\n",
      "2948331_100k.err  2968373_10k.out                drop_file_from_page_cache.c\r\n",
      "2948331_100k.out  2968374_10k.err                fiber_table.txt\r\n",
      "2948334_100k.err  2968374_10k.out                get_all_catalog.py\r\n",
      "2948334_100k.out  2968390_10k.err                gtest7.h5\r\n",
      "2948380_100k.err  2968390_10k.out                h5boss-test.ipynb\r\n",
      "2948380_100k.out  2968390_nodes10k_catalog.txt   index_list\r\n",
      "2948451_100k.err  2968390_nodes10k_fiber.txt     index_list1\r\n",
      "2948451_100k.out  2968442_10k.err                input_1\r\n",
      "2948465_100k.err  2968442_10k.out                input-full\r\n",
      "2948465_100k.out  2968442_nodes10k_catalog.txt   input-full1\r\n",
      "2948519_100k.err  2968442_nodes10k_fiber.txt     input-full2-bk\r\n",
      "2948519_100k.out  2968510_10k.err                input-full-bb\r\n",
      "2948528_100k.err  2968510_10k.out                input-full-cori\r\n",
      "2948528_100k.out  2968510_nodes100k_catalog.txt  input-full-cori-output\r\n",
      "2948551_100k.err  2968510_nodes100k_fiber.txt    input-full-index\r\n",
      "2948551_100k.out  2968927_10k.err                input-full-project\r\n",
      "2948559_100k.err  2968927_10k.out                \u001b[01;32mis_file_in_page_cache\u001b[0m*\r\n",
      "2948559_100k.out  2968927_nodes10k_catalog.txt   is_file_in_page_cache.c\r\n",
      "2948565_100k.err  2968927_nodes10k_fiber.txt     nodes100k_catalog.txt\r\n",
      "2948565_100k.out  2968962_100k.err               nodes100k_fiber.txt\r\n",
      "2948584_100k.err  2968962_100k.out               nodes10k_catalog.txt\r\n",
      "2948584_100k.out  2968962_nodes100k_catalog.txt  nodes1k.txt\r\n",
      "2948598_100k.err  2968962_nodes100k_fiber.txt    nodes.txt\r\n",
      "2948598_100k.out  2970245_100k.err               \u001b[01;34moutput\u001b[0m/\r\n",
      "2948615_100k.err  2970245_100k.out               \u001b[01;32mpagesize\u001b[0m*\r\n",
      "2948615_100k.out  2970245_nodes100k_catalog.txt  pagesize.c\r\n",
      "2948618_100k.err  2970245_nodes100k_fiber.txt    \u001b[01;34mpmf-list\u001b[0m/\r\n",
      "2948618_100k.out  2970252_1k.err                 pro1.h5\r\n",
      "2948623_100k.err  2970252_1k.out                 ps_mem.py\r\n",
      "2948623_100k.out  2970252_nodes1k_catalog.txt    readh5.py\r\n",
      "2948649_100k.err  2970252_nodes1k_fiber.txt      space1.h5\r\n",
      "2948649_100k.out  2970267_1k.err                 \u001b[01;32msubmit-bb.sh\u001b[0m*\r\n",
      "2948671_100k.err  2970267_1k.out                 \u001b[01;32msubmit_part.sh\u001b[0m*\r\n",
      "2948671_100k.out  2970267_nodes1k_catalog.txt    \u001b[01;32msubmit-scaling.sh\u001b[0m*\r\n",
      "2948694_100k.err  2970267_nodes1k_fiber.txt      \u001b[01;32msubmit.sh\u001b[0m*\r\n",
      "2948694_100k.out  2970427_1k.err                 \u001b[01;32msubmit_sub.sh\u001b[0m*\r\n",
      "2948715_100k.err  2970427_1k.out                 \u001b[01;32mtest1.sh\u001b[0m*\r\n",
      "2948715_100k.out  2970427_nodes1k_catalog.txt    test_low.py\r\n",
      "2948716_100k.err  2970427_nodes1k_fiber.txt      test_pw.h5\r\n",
      "2948716_100k.out  2970602_1k.err                 test_pw.py\r\n",
      "2948746_100k.err  2970602_1k.out                 testsun.h5\r\n",
      "2948746_100k.out  2970602_nodes1k_catalog.txt    tlow.h5\r\n",
      "2948767_100k.err  2970602_nodes1k_fiber.txt      xxh1.h5\r\n",
      "\u001b[m"
     ]
    }
   ],
   "source": [
    "ls"
   ]
  },
  {
   "cell_type": "code",
   "execution_count": 2,
   "metadata": {
    "collapsed": false
   },
   "outputs": [
    {
     "name": "stdout",
     "output_type": "stream",
     "text": [
      "2979891_nodes10k_fiber.txt\r\n"
     ]
    }
   ],
   "source": [
    "ls 2979891_nodes10k_fiber.txt"
   ]
  },
  {
   "cell_type": "code",
   "execution_count": 34,
   "metadata": {
    "collapsed": false
   },
   "outputs": [
    {
     "name": "stdout",
     "output_type": "stream",
     "text": [
      "/global/cscratch1/sd/jialin/h5boss/3929-55335.hdf5    207\n",
      "/global/cscratch1/sd/jialin/h5boss/5289-55893.hdf5    204\n",
      "/global/cscratch1/sd/jialin/h5boss/3945-55648.hdf5    190\n",
      "/global/cscratch1/sd/jialin/h5boss/3865-55272.hdf5    175\n",
      "/global/cscratch1/sd/jialin/h5boss/6117-56272.hdf5    170\n",
      "/global/cscratch1/sd/jialin/h5boss/4293-55509.hdf5    168\n",
      "/global/cscratch1/sd/jialin/h5boss/7029-56455.hdf5    156\n",
      "/global/cscratch1/sd/jialin/h5boss/6129-56301.hdf5    155\n",
      "/global/cscratch1/sd/jialin/h5boss/3790-55208.hdf5    152\n",
      "/global/cscratch1/sd/jialin/h5boss/6284-56310.hdf5    152\n",
      "/global/cscratch1/sd/jialin/h5boss/3766-55213.hdf5    152\n",
      "/global/cscratch1/sd/jialin/h5boss/4545-55567.hdf5    152\n",
      "/global/cscratch1/sd/jialin/h5boss/4466-55857.hdf5    152\n",
      "/global/cscratch1/sd/jialin/h5boss/3781-55243.hdf5    147\n",
      "/global/cscratch1/sd/jialin/h5boss/5339-55922.hdf5    145\n",
      "/global/cscratch1/sd/jialin/h5boss/7108-56686.hdf5    138\n",
      "/global/cscratch1/sd/jialin/h5boss/4079-55363.hdf5    138\n",
      "/global/cscratch1/sd/jialin/h5boss/7255-56597.hdf5    136\n",
      "/global/cscratch1/sd/jialin/h5boss/5008-55744.hdf5    136\n",
      "/global/cscratch1/sd/jialin/h5boss/4875-55677.hdf5    135\n",
      "/global/cscratch1/sd/jialin/h5boss/4271-55507.hdf5    135\n",
      "/global/cscratch1/sd/jialin/h5boss/7337-56662.hdf5    135\n",
      "/global/cscratch1/sd/jialin/h5boss/3931-55350.hdf5    135\n",
      "/global/cscratch1/sd/jialin/h5boss/4697-55660.hdf5    135\n",
      "/global/cscratch1/sd/jialin/h5boss/3770-55234.hdf5    135\n",
      "/global/cscratch1/sd/jialin/h5boss/4659-55587.hdf5    133\n",
      "/global/cscratch1/sd/jialin/h5boss/7454-56751.hdf5    132\n",
      "/global/cscratch1/sd/jialin/h5boss/5994-56101.hdf5    130\n",
      "/global/cscratch1/sd/jialin/h5boss/3787-55565.hdf5    130\n",
      "/global/cscratch1/sd/jialin/h5boss/6780-56605.hdf5    130\n",
      "                                                     ... \n",
      "/global/cscratch1/sd/jialin/h5boss/4345-55569.hdf5      2\n",
      "/global/cscratch1/sd/jialin/h5boss/5847-56037.hdf5      2\n",
      "/global/cscratch1/sd/jialin/h5boss/4737-55630.hdf5      2\n",
      "/global/cscratch1/sd/jialin/h5boss/6177-56268.hdf5      2\n",
      "/global/cscratch1/sd/jialin/h5boss/5048-56218.hdf5      2\n",
      "/global/cscratch1/sd/jialin/h5boss/4078-55358.hdf5      2\n",
      "/global/cscratch1/sd/jialin/h5boss/4069-55365.hdf5      2\n",
      "/global/cscratch1/sd/jialin/h5boss/3863-55280.hdf5      2\n",
      "/global/cscratch1/sd/jialin/h5boss/5943-56218.hdf5      2\n",
      "/global/cscratch1/sd/jialin/h5boss/3683-55178.hdf5      2\n",
      "/global/cscratch1/sd/jialin/h5boss/6606-56304.hdf5      2\n",
      "/global/cscratch1/sd/jialin/h5boss/4188-55684.hdf5      2\n",
      "/global/cscratch1/sd/jialin/h5boss/7102-56666.hdf5      2\n",
      "/global/cscratch1/sd/jialin/h5boss/4449-55544.hdf5      1\n",
      "/global/cscratch1/sd/jialin/h5boss/3946-55298.hdf5      1\n",
      "/global/cscratch1/sd/jialin/h5boss/4621-55603.hdf5      1\n",
      "/global/cscratch1/sd/jialin/h5boss/3835-55570.hdf5      1\n",
      "/global/cscratch1/sd/jialin/h5boss/6460-56334.hdf5      1\n",
      "/global/cscratch1/sd/jialin/h5boss/6983-56447.hdf5      1\n",
      "/global/cscratch1/sd/jialin/h5boss/4702-55618.hdf5      1\n",
      "/global/cscratch1/sd/jialin/h5boss/5972-56334.hdf5      1\n",
      "/global/cscratch1/sd/jialin/h5boss/6484-56358.hdf5      1\n",
      "/global/cscratch1/sd/jialin/h5boss/5480-56001.hdf5      1\n",
      "/global/cscratch1/sd/jialin/h5boss/7100-56636.hdf5      1\n",
      "/global/cscratch1/sd/jialin/h5boss/4632-55644.hdf5      1\n",
      "/global/cscratch1/sd/jialin/h5boss/6121-56187.hdf5      1\n",
      "/global/cscratch1/sd/jialin/h5boss/4640-55927.hdf5      1\n",
      "/global/cscratch1/sd/jialin/h5boss/3841-55295.hdf5      1\n",
      "/global/cscratch1/sd/jialin/h5boss/4014-55630.hdf5      1\n",
      "/global/cscratch1/sd/jialin/h5boss/3956-55656.hdf5      1\n",
      "Name: 1, dtype: int64\n"
     ]
    }
   ],
   "source": [
    "import pandas as pd\n",
    "import numpy as np\n",
    "filename='2979891_nodes10k_fiber.txt'\n",
    "dc=pd.read_csv(filename,sep=':',dtype=str,header=-1)\n",
    "ps=pd.Series(dc[1])\n",
    "vc=ps.value_counts(sort=True)\n",
    "print vc"
   ]
  },
  {
   "cell_type": "code",
   "execution_count": 2,
   "metadata": {
    "collapsed": false
   },
   "outputs": [
    {
     "name": "stdout",
     "output_type": "stream",
     "text": [
      "\u001b[0m\u001b[01;32m1k1m-cori.sh\u001b[0m*                index_list               \u001b[01;34moutput\u001b[0m/\r\n",
      "\u001b[01;32m1k1m-project.sh\u001b[0m*             index_list1              \u001b[01;32mpagesize\u001b[0m*\r\n",
      "\u001b[01;32m1k1m.sh\u001b[0m*                     input_1                  pagesize.c\r\n",
      "all-ost1                     input-full               \u001b[01;34mpmf-list\u001b[0m/\r\n",
      "bbtest1                      input-full1              ps_mem.py\r\n",
      "bbtest2                      input-full2-bk           readh5.py\r\n",
      "bbtest3                      input-full-bb            \u001b[01;32msubmit-bb.sh\u001b[0m*\r\n",
      "bbtest4                      input-full-cori          \u001b[01;32msubmit_part.sh\u001b[0m*\r\n",
      "\u001b[01;32mboss2hdf5-parallel.py\u001b[0m*       input-full-cori-output   \u001b[01;32msubmit-scaling.sh\u001b[0m*\r\n",
      "\u001b[01;32mdrop_cache.py\u001b[0m*               input-full-index         \u001b[01;32msubmit.sh\u001b[0m*\r\n",
      "\u001b[01;32mdrop_file_from_page_cache\u001b[0m*   input-full-project       \u001b[01;32msubmit_sub.sh\u001b[0m*\r\n",
      "drop_file_from_page_cache.c  \u001b[01;32mis_file_in_page_cache\u001b[0m*   \u001b[01;32mtest1.sh\u001b[0m*\r\n",
      "get_all_catalog.py           is_file_in_page_cache.c  test_low.py\r\n",
      "h5boss-test.ipynb            \u001b[01;34mlog\u001b[0m/                     test_pw.py\r\n",
      "\u001b[m"
     ]
    }
   ],
   "source": [
    "ls"
   ]
  },
  {
   "cell_type": "code",
   "execution_count": null,
   "metadata": {
    "collapsed": true
   },
   "outputs": [],
   "source": [
    "import h5py\n",
    "import os\n",
    "from os import listdir\n",
    "from os.path import isfile, join\n",
    "\n",
    "mypath=\"/global/cscratch1/sd/jialin/h5boss_v2\"\n",
    "onlyfiles = [f for f in listdir(mypath) if isfile(join(mypath, f))]"
   ]
  },
  {
   "cell_type": "code",
   "execution_count": null,
   "metadata": {
    "collapsed": true
   },
   "outputs": [],
   "source": [
    "len()"
   ]
  }
 ],
 "metadata": {
  "kernelspec": {
   "display_name": "Python 2",
   "language": "python",
   "name": "python2"
  },
  "language_info": {
   "codemirror_mode": {
    "name": "ipython",
    "version": 2
   },
   "file_extension": ".py",
   "mimetype": "text/x-python",
   "name": "python",
   "nbconvert_exporter": "python",
   "pygments_lexer": "ipython2",
   "version": "2.7.11"
  }
 },
 "nbformat": 4,
 "nbformat_minor": 0
}
