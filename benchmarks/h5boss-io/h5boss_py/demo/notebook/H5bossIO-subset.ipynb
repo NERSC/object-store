{
 "cells": [
  {
   "cell_type": "markdown",
   "metadata": {},
   "source": [
    "# H5BossIO-subset"
   ]
  },
  {
   "cell_type": "code",
   "execution_count": 2,
   "metadata": {
    "collapsed": false
   },
   "outputs": [
    {
     "name": "stdout",
     "output_type": "stream",
     "text": [
      "cp: cannot stat `/global/homes/j/jialin/h5boss-heavy/h5boss_py/demo/io_write.out': No such file or directory\r\n"
     ]
    }
   ],
   "source": [
    "cp /global/homes/j/jialin/h5boss-heavy/h5boss_py/demo/io_write.out ."
   ]
  },
  {
   "cell_type": "code",
   "execution_count": 4,
   "metadata": {
    "collapsed": false
   },
   "outputs": [
    {
     "name": "stdout",
     "output_type": "stream",
     "text": [
      "boss2hdf5_v2.ipynb   H5bossIO-subset.ipynb  h5map.ipynb\r\n",
      "Fitsio-Subset.ipynb  h5boss-test.ipynb      io_write.out\r\n"
     ]
    }
   ],
   "source": [
    "ls"
   ]
  },
  {
   "cell_type": "code",
   "execution_count": 5,
   "metadata": {
    "collapsed": true
   },
   "outputs": [],
   "source": [
    "text_file = open(\"io_write.out\", \"r\")\n",
    "lines = text_file.read().splitlines()"
   ]
  },
  {
   "cell_type": "code",
   "execution_count": 6,
   "metadata": {
    "collapsed": false
   },
   "outputs": [
    {
     "data": {
      "text/plain": [
       "9515"
      ]
     },
     "execution_count": 6,
     "metadata": {},
     "output_type": "execute_result"
    }
   ],
   "source": [
    "len(lines)"
   ]
  },
  {
   "cell_type": "code",
   "execution_count": 7,
   "metadata": {
    "collapsed": false
   },
   "outputs": [
    {
     "name": "stdout",
     "output_type": "stream",
     "text": [
      "avg:130.45 KB, 32 4K pages\n",
      "min:128.50 KB, 32 4K pages\n",
      "max:146.03 KB, 32 4k pages\n",
      "std:5.02 KB\n"
     ]
    }
   ],
   "source": [
    "import numpy as np\n",
    "myarray = map(int, lines)\n",
    "myarray = np.asarray(myarray)\n",
    "#print lines\n",
    "print (\"avg:%.2f KB, %d 4K pages\"%(np.average(myarray)/1024.0, np.average(myarray)/1024.0/4))\n",
    "print (\"min:%.2f KB, %d 4K pages\"%(np.min(myarray)/1024.0,np.average(myarray)/1024.0/4))\n",
    "print (\"max:%.2f KB, %d 4k pages\"%(np.max(myarray)/1024.0, np.average(myarray)/1024.0/4))\n",
    "print (\"std:%.2f KB\"%(np.std(myarray)/1024.0))\n",
    "\n"
   ]
  },
  {
   "cell_type": "code",
   "execution_count": 8,
   "metadata": {
    "collapsed": false
   },
   "outputs": [
    {
     "data": {
      "text/plain": [
       "(array([8538,    0,    0,    0,    0,    0,    0,    0,    1,  976]),\n",
       " array([ 131584. ,  133379.2,  135174.4,  136969.6,  138764.8,  140560. ,\n",
       "         142355.2,  144150.4,  145945.6,  147740.8,  149536. ]))"
      ]
     },
     "execution_count": 8,
     "metadata": {},
     "output_type": "execute_result"
    }
   ],
   "source": [
    "np.histogram(myarray)"
   ]
  },
  {
   "cell_type": "code",
   "execution_count": 25,
   "metadata": {
    "collapsed": false
   },
   "outputs": [
    {
     "data": {
      "image/png": "[encoded data removed]",
      "text/plain": [
       "<matplotlib.figure.Figure at 0x7f823cd42510>"
      ]
     },
     "metadata": {},
     "output_type": "display_data"
    }
   ],
   "source": [
    "import matplotlib.pyplot as plt\n",
    "import numpy as np\n",
    "%matplotlib inline\n",
    "# Learn about API authentication here: https://plot.ly/python/getting-started\n",
    "# Find your api_key here: https://plot.ly/settings/api\n",
    "\n",
    "gaussian_numbers = np.random.randn(1000)\n",
    "#plt.hist(gaussian_numbers)\n",
    "plt.hist(myarray/1000)\n",
    "plt.title(\"I/O Distributation of H5Boss 1K Query\")\n",
    "plt.xlabel(\"KB\")\n",
    "plt.ylabel(\"Frequency\")\n",
    "\n",
    "#fig = plt.gcf()\n",
    "plt.savefig('h5boss_iohist.pdf')\n"
   ]
  },
  {
   "cell_type": "code",
   "execution_count": 26,
   "metadata": {
    "collapsed": false
   },
   "outputs": [
    {
     "name": "stdout",
     "output_type": "stream",
     "text": [
      "h5boss_iohist.pdf\r\n"
     ]
    }
   ],
   "source": [
    "ls *.pdf"
   ]
  },
  {
   "cell_type": "code",
   "execution_count": 27,
   "metadata": {
    "collapsed": false
   },
   "outputs": [
    {
     "data": {
      "text/plain": [
       "u'/global/u1/j/jialin/h5boss-heavy/h5boss_py/demo/notebook'"
      ]
     },
     "execution_count": 27,
     "metadata": {},
     "output_type": "execute_result"
    }
   ],
   "source": [
    "pwd"
   ]
  },
  {
   "cell_type": "code",
   "execution_count": null,
   "metadata": {
    "collapsed": true
   },
   "outputs": [],
   "source": []
  }
 ],
 "metadata": {
  "kernelspec": {
   "display_name": "Python 2",
   "language": "python",
   "name": "python2"
  },
  "language_info": {
   "codemirror_mode": {
    "name": "ipython",
    "version": 2
   },
   "file_extension": ".py",
   "mimetype": "text/x-python",
   "name": "python",
   "nbconvert_exporter": "python",
   "pygments_lexer": "ipython2",
   "version": "2.7.11"
  }
 },
 "nbformat": 4,
 "nbformat_minor": 0
}
