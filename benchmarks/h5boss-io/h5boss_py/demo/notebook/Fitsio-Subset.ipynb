{
 "cells": [
  {
   "cell_type": "markdown",
   "metadata": {},
   "source": [
    "# Fitsio-Subset"
   ]
  },
  {
   "cell_type": "code",
   "execution_count": 37,
   "metadata": {
    "collapsed": false
   },
   "outputs": [
    {
     "ename": "IOError",
     "evalue": "[Errno 2] No such file or directory: 'data/pmf1k'",
     "output_type": "error",
     "traceback": [
      "\u001b[1;31m\u001b[0m",
      "\u001b[1;31mIOError\u001b[0mTraceback (most recent call last)",
      "\u001b[1;32m<ipython-input-37-2b506d299cdc>\u001b[0m in \u001b[0;36m<module>\u001b[1;34m()\u001b[0m\n\u001b[0;32m     13\u001b[0m \u001b[0mpmf\u001b[0m \u001b[1;33m=\u001b[0m \u001b[0mnp\u001b[0m\u001b[1;33m.\u001b[0m\u001b[0mzeros\u001b[0m\u001b[1;33m(\u001b[0m \u001b[1;33m(\u001b[0m\u001b[0mnspectra\u001b[0m\u001b[1;33m,\u001b[0m\u001b[1;36m3\u001b[0m\u001b[1;33m)\u001b[0m\u001b[1;33m)\u001b[0m\u001b[1;33m\u001b[0m\u001b[0m\n\u001b[0;32m     14\u001b[0m \u001b[0mi\u001b[0m \u001b[1;33m=\u001b[0m \u001b[1;33m-\u001b[0m\u001b[1;36m1\u001b[0m\u001b[1;33m\u001b[0m\u001b[0m\n\u001b[1;32m---> 15\u001b[1;33m \u001b[1;32mfor\u001b[0m \u001b[0mline\u001b[0m \u001b[1;32min\u001b[0m \u001b[0mopen\u001b[0m\u001b[1;33m(\u001b[0m\u001b[1;34m\"data/pmf1k\"\u001b[0m\u001b[1;33m)\u001b[0m\u001b[1;33m:\u001b[0m\u001b[1;33m\u001b[0m\u001b[0m\n\u001b[0m\u001b[0;32m     16\u001b[0m     \u001b[1;32mif\u001b[0m \u001b[1;34m\"plates\"\u001b[0m \u001b[1;32min\u001b[0m \u001b[0mline\u001b[0m\u001b[1;33m:\u001b[0m\u001b[1;33m\u001b[0m\u001b[0m\n\u001b[0;32m     17\u001b[0m         \u001b[1;32mcontinue\u001b[0m\u001b[1;33m\u001b[0m\u001b[0m\n",
      "\u001b[1;31mIOError\u001b[0m: [Errno 2] No such file or directory: 'data/pmf1k'"
     ]
    }
   ],
   "source": [
    "import numpy as np\n",
    "import time\n",
    "from astropy.io import fits\n",
    "\n",
    "def printname(name):\n",
    "    print name\n",
    "\n",
    "## how many spectra to read? \n",
    "nspectra = 1000\n",
    "totnspectra = 1000\n",
    "\n",
    "### first, read the pmf file\n",
    "pmf = np.zeros( (nspectra,3))\n",
    "i = -1\n",
    "for line in open(\"data/pmf1k\"):\n",
    "    if \"plates\" in line:\n",
    "        continue\n",
    "    cols = line.split()\n",
    "\n",
    "    i+=1\n",
    "    if i>nspectra:\n",
    "        continue\n",
    "\n",
    "    pmf[i][0] = int(cols[0])\n",
    "    pmf[i][1] = int(cols[1])\n",
    "    pmf[i][2] = int(cols[2])\n",
    "\n",
    "print pmf.shape\n",
    "\n",
    "## this goes plate/mjd/fiber. I want to pull out spectrum - so plate/mjd/fiber/coadd/...\n",
    "spectra = []\n",
    "\n",
    "### timeing: open file, extract spectra, put into the array\n",
    "t1 = time.clock()\n",
    "for i in range(nspectra):\n",
    "\n",
    "    #datasetname = \"/global/projecta/projectdirs/sdss/data/sdss/dr12/boss/spectro/redux/v5_7_0/\"\n",
    "    #+str(pmf[i][0])[:-2]+\"/spPlate-\"+str(pmf[i][0])[:-2]+\"-\"+str(pmf[i][1])[:-2]+\".fits\"\n",
    "    datasetname = \"fits-1k/spPlate-\"+str(pmf[i][0])[:-2]+\"-\"+str(pmf[i][1])[:-2]+\".fits\"\n",
    "    try:\n",
    "        hdu = fits.open(datasetname)\n",
    "\n",
    "    except:\n",
    "        print \"******* dataset not found! **************\", datasetname\n",
    "        continue\n",
    "    \n",
    "    flux = hdu[0].data\n",
    "    \n",
    "    try:\n",
    "        spectra.append(flux[pmf[i][2]])\n",
    "    except:\n",
    "        print \"failed to append spectra\"\n",
    "        print i, pmf[i][2], flux.shape\n",
    "\n",
    "t2 = time.clock()\n",
    "spectra = np.array(spectra)\n",
    "print spectra.shape\n",
    "print spectra[0]\n",
    "print \"time taken to load all the spectra into an array:\", t2-t1, \"sec\""
   ]
  },
  {
   "cell_type": "markdown",
   "metadata": {},
   "source": [
    "# parse PMF"
   ]
  },
  {
   "cell_type": "code",
   "execution_count": 38,
   "metadata": {
    "collapsed": true
   },
   "outputs": [],
   "source": [
    "def parsePMF(pmflist):\n",
    "    try:\n",
    "        df = pd.read_csv(pmflist,delimiter=' ',names=[\"plates\",\"mjds\",\"fibers\"],index_col=None,dtype=str)\n",
    "        df = df.sort(['plates'],ascending=[1])\n",
    "        plates = list(map(str,df['plates'].values))\n",
    "        mjds = list(map(str,df['mjds'].values))\n",
    "        fibers = list(map(str,df['fibers'].values))\n",
    "    except Exception as e:\n",
    "        print(\"pmf csv read error or not exist:%s\"%e,pmflist)\n",
    "        print(\"e.g., 1st row of csv should be 'plates mjds fibers'\")\n",
    "    return (plates,mjds,fibers)"
   ]
  },
  {
   "cell_type": "markdown",
   "metadata": {
    "collapsed": true
   },
   "source": [
    "# Using astropy.io fits"
   ]
  },
  {
   "cell_type": "code",
   "execution_count": 3,
   "metadata": {
    "collapsed": false
   },
   "outputs": [],
   "source": [
    "import numpy as np\n",
    "import time\n",
    "from astropy.io import fits\n",
    "import traceback\n",
    "boss_dir=\"/global/projecta/projectdirs/sdss/data/sdss/dr12/boss/spectro/redux/v5_7_0/\"\n",
    "i_wave={\"flux\": 1,\"ivar\": 0,\"andmask\": 2, \"ormask\": 3, \"wavedisp\": 4, \"sky\": 6}\n",
    "def fitsread_pmf(plate,mjd,fiber,wave):\n",
    "    '''\n",
    "        para: plate, mjd, fiber\n",
    "        para: wave is the name of wavelength variable\n",
    "        return: fiber-th row in dataset wave\n",
    "    '''\n",
    "    try:\n",
    "        fitsfile=boss_dir+str(plate)+\"/spPlate-\"+str(plate)+\"-\"+str(mjd)+\".fits\"\n",
    "        hdu = fits.open(fitsfile)\n",
    "    except Exception as e:\n",
    "        traceback.print_exc()\n",
    "        print(\"fits open error %s\"%fitsfile)\n",
    "    try:\n",
    "        di=int(i_wave[wave])\n",
    "        dwave=hdu[di].data[int(fiber)]\n",
    "    except Exception as e:\n",
    "        traceback.print_exc()\n",
    "        print(\"extraction error\")\n",
    "    return dwave\n"
   ]
  },
  {
   "cell_type": "markdown",
   "metadata": {},
   "source": [
    "# Using fitsio"
   ]
  },
  {
   "cell_type": "code",
   "execution_count": 33,
   "metadata": {
    "collapsed": false
   },
   "outputs": [],
   "source": [
    "import numpy as np\n",
    "import sys\n",
    "sys.path.append('/global/homes/j/jialin/.local/edison/2.7-anaconda/lib/python2.7/site-packages')\n",
    "import time\n",
    "import fitsio\n",
    "import traceback\n",
    "boss_dir=\"/global/projecta/projectdirs/sdss/data/sdss/dr12/boss/spectro/redux/v5_7_0/\"\n",
    "i_wave={\"flux\": 1,\"ivar\": 0,\"andmask\": 2, \"ormask\": 3, \"wavedisp\": 4, \"sky\": 6}\n",
    "def fitsread_pmf(plate,mjd,fiber,wave):\n",
    "    '''\n",
    "        para: plate, mjd, fiber\n",
    "        para: wave is the name of wavelength variable\n",
    "        return: fiber-th row in dataset wave\n",
    "    '''\n",
    "    try:\n",
    "        fitsfile=boss_dir+str(plate)+\"/spPlate-\"+str(plate)+\"-\"+str(mjd)+\".fits\"\n",
    "        dfits=fitsio.FITS(fitsfile)\n",
    "    except Exception as e:\n",
    "        traceback.print_exc()\n",
    "        print(\"fits open error %s\"%fitsfile)\n",
    "    try:\n",
    "        di=int(i_wave[wave])\n",
    "        print (\"%dth variable %s, %dth fiber\"%(di,wave,fiber))\n",
    "        dwave=dfits[di][int(fiber)-1:int(fiber),:]\n",
    "    except Exception as e:\n",
    "        traceback.print_exc()\n",
    "        print(\"extraction error\")\n",
    "    return dwave"
   ]
  },
  {
   "cell_type": "markdown",
   "metadata": {},
   "source": [
    "# test"
   ]
  },
  {
   "cell_type": "code",
   "execution_count": 34,
   "metadata": {
    "collapsed": false
   },
   "outputs": [
    {
     "data": {
      "text/plain": [
       "'\\n3973 55323 790\\n5329 55946 618\\n4860 55691 325\\n4179 55684 141\\n6474 56362 402\\n6170 56240 672\\n6832 56426 160\\n4395 55828 411\\n7340 56726 310\\n7137 56566 527\\n'"
      ]
     },
     "execution_count": 34,
     "metadata": {},
     "output_type": "execute_result"
    }
   ],
   "source": [
    "'''\n",
    "3973 55323 790\n",
    "5329 55946 618\n",
    "4860 55691 325\n",
    "4179 55684 141\n",
    "6474 56362 402\n",
    "6170 56240 672\n",
    "6832 56426 160\n",
    "4395 55828 411\n",
    "7340 56726 310\n",
    "7137 56566 527\n",
    "'''"
   ]
  },
  {
   "cell_type": "code",
   "execution_count": 35,
   "metadata": {
    "collapsed": false
   },
   "outputs": [
    {
     "name": "stdout",
     "output_type": "stream",
     "text": [
      "1th variable flux, 790th fiber\n"
     ]
    },
    {
     "data": {
      "text/plain": [
       "array([[ 0.,  0.,  0., ...,  0.,  0.,  0.]], dtype=float32)"
      ]
     },
     "execution_count": 35,
     "metadata": {},
     "output_type": "execute_result"
    }
   ],
   "source": [
    "plate=3973\n",
    "mjd=55323\n",
    "fiber=790\n",
    "dw=fitsread_pmf(plate,mjd,fiber,'flux')\n",
    "dw"
   ]
  },
  {
   "cell_type": "code",
   "execution_count": 36,
   "metadata": {
    "collapsed": false
   },
   "outputs": [
    {
     "name": "stdout",
     "output_type": "stream",
     "text": [
      "1th variable flux, 5th fiber\n"
     ]
    },
    {
     "data": {
      "text/plain": [
       "array([[ 0.      ,  0.067215,  0.      , ...,  0.      ,  0.      ,  0.      ]], dtype=float32)"
      ]
     },
     "execution_count": 36,
     "metadata": {},
     "output_type": "execute_result"
    }
   ],
   "source": [
    "plate=3973\n",
    "mjd=55323\n",
    "fiber=5\n",
    "dw=fitsread_pmf(plate,mjd,fiber,'flux')\n",
    "dw"
   ]
  },
  {
   "cell_type": "code",
   "execution_count": 39,
   "metadata": {
    "collapsed": true
   },
   "outputs": [],
   "source": [
    "def test_fitsread_pmf(pmflist,var):\n",
    "    try:\n",
    "        plate,mjd,fiber=parsePMF(pmflist)\n",
    "    except Exception as e:\n",
    "        traceback.print_exc()\n",
    "        print(\"parse pmf: %s error\"%pmflist)\n",
    "    print (\"reading %d pmf\"%length(plate))\n",
    "    try:\n",
    "        for i in range(0,length(plate)):\n",
    "            fitsread_pmf(plate[i],mjd[i],fiber[i],var)\n",
    "    except Exception as e:\n",
    "        traceback.print_exc()\n",
    "        print(\"read fiber %d error %s\"%(fiber[i],var))"
   ]
  },
  {
   "cell_type": "code",
   "execution_count": 40,
   "metadata": {
    "collapsed": false
   },
   "outputs": [
    {
     "name": "stdout",
     "output_type": "stream",
     "text": [
      "boss2hdf5_v2.ipynb   H5bossIO-subset.ipynb\r\n",
      "Fitsio-Subset.ipynb  h5boss-test.ipynb\r\n"
     ]
    }
   ],
   "source": []
  },
  {
   "cell_type": "code",
   "execution_count": null,
   "metadata": {
    "collapsed": true
   },
   "outputs": [],
   "source": []
  }
 ],
 "metadata": {
  "kernelspec": {
   "display_name": "Python 2",
   "language": "python",
   "name": "python2"
  },
  "language_info": {
   "codemirror_mode": {
    "name": "ipython",
    "version": 2
   },
   "file_extension": ".py",
   "mimetype": "text/x-python",
   "name": "python",
   "nbconvert_exporter": "python",
   "pygments_lexer": "ipython2",
   "version": "2.7.11"
  }
 },
 "nbformat": 4,
 "nbformat_minor": 0
}
